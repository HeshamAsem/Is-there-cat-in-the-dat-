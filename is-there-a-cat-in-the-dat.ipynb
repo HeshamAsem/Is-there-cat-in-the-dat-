{
 "cells": [
  {
   "cell_type": "markdown",
   "metadata": {},
   "source": [
    "# Is There a Cat in the Dat ? \n",
    "By : Hesdham Asem\n",
    "\n",
    "______\n",
    "\n",
    "a simple clean data , which depend on categorical featurs , & we need to classify it to know whether there will be a cat or not\n",
    "\n",
    "let's start by importing libraries"
   ]
  },
  {
   "cell_type": "code",
   "execution_count": 1,
   "metadata": {
    "scrolled": true
   },
   "outputs": [],
   "source": [
    "import pandas as pd\n",
    "import numpy as np\n",
    "import matplotlib.pyplot as plt\n",
    "%matplotlib inline\n",
    "import seaborn as sns\n",
    "sns.set(style=\"whitegrid\")\n",
    "from sklearn.preprocessing import LabelEncoder\n",
    "from sklearn.model_selection import train_test_split\n",
    "from sklearn.preprocessing import MinMaxScaler\n",
    "import lightgbm as lgb\n"
   ]
  },
  {
   "cell_type": "markdown",
   "metadata": {},
   "source": [
    "then read the data"
   ]
  },
  {
   "cell_type": "code",
   "execution_count": 2,
   "metadata": {
    "scrolled": true
   },
   "outputs": [
    {
     "name": "stdout",
     "output_type": "stream",
     "text": [
      "Train data Shape is (300000, 25)\n",
      "Test data Shape is (200000, 24)\n"
     ]
    }
   ],
   "source": [
    "train = pd.read_csv('../input/cat-in-the-dat/train.csv')  \n",
    "test = pd.read_csv('../input/cat-in-the-dat/test.csv')  \n",
    "\n",
    "print(f'Train data Shape is {train.shape}')\n",
    "print(f'Test data Shape is {test.shape}')"
   ]
  },
  {
   "cell_type": "markdown",
   "metadata": {},
   "source": [
    "300K sample size for training & 200K for testing , great . \n",
    "\n",
    "now to define needed functions"
   ]
  },
  {
   "cell_type": "code",
   "execution_count": 3,
   "metadata": {
    "scrolled": true
   },
   "outputs": [],
   "source": [
    "def Drop(feature) :\n",
    "    global data\n",
    "    data.drop([feature],axis=1, inplace=True)\n",
    "    data.head()\n",
    "    \n",
    "def UniqueAll(show_value = True) : \n",
    "    global data\n",
    "    for col in data.columns : \n",
    "        print(f'Length of unique data for   {col}   is    {len(data[col].unique())} ')\n",
    "        if show_value == True  : \n",
    "            print(f'unique values ae {data[col].unique()}' )\n",
    "            print('-----------------------------')\n",
    "            \n",
    "def Encoder(feature , new_feature, drop = True) : \n",
    "    global data\n",
    "    enc  = LabelEncoder()\n",
    "    enc.fit(data[feature])\n",
    "    data[new_feature] = enc.transform(data[feature])\n",
    "    if drop == True : \n",
    "        data.drop([feature],axis=1, inplace=True)\n",
    "        \n",
    "def CPlot(feature) : \n",
    "    global data\n",
    "    sns.countplot(x=feature, data=data,facecolor=(0, 0, 0, 0),linewidth=5,edgecolor=sns.color_palette(\"dark\", 3))\n",
    "    \n",
    "def Mapp(feature , new_feature ,f_dict, drop_feature = True) : \n",
    "    global data\n",
    "    data[new_feature] = data[feature].map(f_dict)\n",
    "    if drop_feature == True : \n",
    "        data.drop([feature],axis=1, inplace=True)\n",
    "    else :\n",
    "        data.head()\n",
    "def Unique(feature) : \n",
    "    global data\n",
    "    print(f'Number of unique vaure are {len(list(data[feature].unique()))} which are : \\n {list(data[feature].unique())}')"
   ]
  },
  {
   "cell_type": "markdown",
   "metadata": {},
   "source": [
    "____\n",
    "\n",
    "as usual , start with heading data to have a look to it "
   ]
  },
  {
   "cell_type": "code",
   "execution_count": 4,
   "metadata": {
    "scrolled": true
   },
   "outputs": [
    {
     "data": {
      "text/html": [
       "<div>\n",
       "<style scoped>\n",
       "    .dataframe tbody tr th:only-of-type {\n",
       "        vertical-align: middle;\n",
       "    }\n",
       "\n",
       "    .dataframe tbody tr th {\n",
       "        vertical-align: top;\n",
       "    }\n",
       "\n",
       "    .dataframe thead th {\n",
       "        text-align: right;\n",
       "    }\n",
       "</style>\n",
       "<table border=\"1\" class=\"dataframe\">\n",
       "  <thead>\n",
       "    <tr style=\"text-align: right;\">\n",
       "      <th></th>\n",
       "      <th>id</th>\n",
       "      <th>bin_0</th>\n",
       "      <th>bin_1</th>\n",
       "      <th>bin_2</th>\n",
       "      <th>bin_3</th>\n",
       "      <th>bin_4</th>\n",
       "      <th>nom_0</th>\n",
       "      <th>nom_1</th>\n",
       "      <th>nom_2</th>\n",
       "      <th>nom_3</th>\n",
       "      <th>...</th>\n",
       "      <th>nom_9</th>\n",
       "      <th>ord_0</th>\n",
       "      <th>ord_1</th>\n",
       "      <th>ord_2</th>\n",
       "      <th>ord_3</th>\n",
       "      <th>ord_4</th>\n",
       "      <th>ord_5</th>\n",
       "      <th>day</th>\n",
       "      <th>month</th>\n",
       "      <th>target</th>\n",
       "    </tr>\n",
       "  </thead>\n",
       "  <tbody>\n",
       "    <tr>\n",
       "      <th>0</th>\n",
       "      <td>0</td>\n",
       "      <td>0</td>\n",
       "      <td>0</td>\n",
       "      <td>0</td>\n",
       "      <td>T</td>\n",
       "      <td>Y</td>\n",
       "      <td>Green</td>\n",
       "      <td>Triangle</td>\n",
       "      <td>Snake</td>\n",
       "      <td>Finland</td>\n",
       "      <td>...</td>\n",
       "      <td>2f4cb3d51</td>\n",
       "      <td>2</td>\n",
       "      <td>Grandmaster</td>\n",
       "      <td>Cold</td>\n",
       "      <td>h</td>\n",
       "      <td>D</td>\n",
       "      <td>kr</td>\n",
       "      <td>2</td>\n",
       "      <td>2</td>\n",
       "      <td>0</td>\n",
       "    </tr>\n",
       "    <tr>\n",
       "      <th>1</th>\n",
       "      <td>1</td>\n",
       "      <td>0</td>\n",
       "      <td>1</td>\n",
       "      <td>0</td>\n",
       "      <td>T</td>\n",
       "      <td>Y</td>\n",
       "      <td>Green</td>\n",
       "      <td>Trapezoid</td>\n",
       "      <td>Hamster</td>\n",
       "      <td>Russia</td>\n",
       "      <td>...</td>\n",
       "      <td>f83c56c21</td>\n",
       "      <td>1</td>\n",
       "      <td>Grandmaster</td>\n",
       "      <td>Hot</td>\n",
       "      <td>a</td>\n",
       "      <td>A</td>\n",
       "      <td>bF</td>\n",
       "      <td>7</td>\n",
       "      <td>8</td>\n",
       "      <td>0</td>\n",
       "    </tr>\n",
       "    <tr>\n",
       "      <th>2</th>\n",
       "      <td>2</td>\n",
       "      <td>0</td>\n",
       "      <td>0</td>\n",
       "      <td>0</td>\n",
       "      <td>F</td>\n",
       "      <td>Y</td>\n",
       "      <td>Blue</td>\n",
       "      <td>Trapezoid</td>\n",
       "      <td>Lion</td>\n",
       "      <td>Russia</td>\n",
       "      <td>...</td>\n",
       "      <td>ae6800dd0</td>\n",
       "      <td>1</td>\n",
       "      <td>Expert</td>\n",
       "      <td>Lava Hot</td>\n",
       "      <td>h</td>\n",
       "      <td>R</td>\n",
       "      <td>Jc</td>\n",
       "      <td>7</td>\n",
       "      <td>2</td>\n",
       "      <td>0</td>\n",
       "    </tr>\n",
       "    <tr>\n",
       "      <th>3</th>\n",
       "      <td>3</td>\n",
       "      <td>0</td>\n",
       "      <td>1</td>\n",
       "      <td>0</td>\n",
       "      <td>F</td>\n",
       "      <td>Y</td>\n",
       "      <td>Red</td>\n",
       "      <td>Trapezoid</td>\n",
       "      <td>Snake</td>\n",
       "      <td>Canada</td>\n",
       "      <td>...</td>\n",
       "      <td>8270f0d71</td>\n",
       "      <td>1</td>\n",
       "      <td>Grandmaster</td>\n",
       "      <td>Boiling Hot</td>\n",
       "      <td>i</td>\n",
       "      <td>D</td>\n",
       "      <td>kW</td>\n",
       "      <td>2</td>\n",
       "      <td>1</td>\n",
       "      <td>1</td>\n",
       "    </tr>\n",
       "    <tr>\n",
       "      <th>4</th>\n",
       "      <td>4</td>\n",
       "      <td>0</td>\n",
       "      <td>0</td>\n",
       "      <td>0</td>\n",
       "      <td>F</td>\n",
       "      <td>N</td>\n",
       "      <td>Red</td>\n",
       "      <td>Trapezoid</td>\n",
       "      <td>Lion</td>\n",
       "      <td>Canada</td>\n",
       "      <td>...</td>\n",
       "      <td>b164b72a7</td>\n",
       "      <td>1</td>\n",
       "      <td>Grandmaster</td>\n",
       "      <td>Freezing</td>\n",
       "      <td>a</td>\n",
       "      <td>R</td>\n",
       "      <td>qP</td>\n",
       "      <td>7</td>\n",
       "      <td>8</td>\n",
       "      <td>0</td>\n",
       "    </tr>\n",
       "  </tbody>\n",
       "</table>\n",
       "<p>5 rows × 25 columns</p>\n",
       "</div>"
      ],
      "text/plain": [
       "   id  bin_0  bin_1  bin_2 bin_3 bin_4  nom_0      nom_1    nom_2    nom_3  \\\n",
       "0   0      0      0      0     T     Y  Green   Triangle    Snake  Finland   \n",
       "1   1      0      1      0     T     Y  Green  Trapezoid  Hamster   Russia   \n",
       "2   2      0      0      0     F     Y   Blue  Trapezoid     Lion   Russia   \n",
       "3   3      0      1      0     F     Y    Red  Trapezoid    Snake   Canada   \n",
       "4   4      0      0      0     F     N    Red  Trapezoid     Lion   Canada   \n",
       "\n",
       "   ...      nom_9 ord_0        ord_1        ord_2 ord_3 ord_4  ord_5 day  \\\n",
       "0  ...  2f4cb3d51     2  Grandmaster         Cold     h     D     kr   2   \n",
       "1  ...  f83c56c21     1  Grandmaster          Hot     a     A     bF   7   \n",
       "2  ...  ae6800dd0     1       Expert     Lava Hot     h     R     Jc   7   \n",
       "3  ...  8270f0d71     1  Grandmaster  Boiling Hot     i     D     kW   2   \n",
       "4  ...  b164b72a7     1  Grandmaster     Freezing     a     R     qP   7   \n",
       "\n",
       "  month target  \n",
       "0     2      0  \n",
       "1     8      0  \n",
       "2     2      0  \n",
       "3     1      1  \n",
       "4     8      0  \n",
       "\n",
       "[5 rows x 25 columns]"
      ]
     },
     "execution_count": 4,
     "metadata": {},
     "output_type": "execute_result"
    }
   ],
   "source": [
    "train.head()"
   ]
  },
  {
   "cell_type": "markdown",
   "metadata": {},
   "source": [
    "& here is test data"
   ]
  },
  {
   "cell_type": "code",
   "execution_count": 5,
   "metadata": {
    "scrolled": true
   },
   "outputs": [
    {
     "data": {
      "text/html": [
       "<div>\n",
       "<style scoped>\n",
       "    .dataframe tbody tr th:only-of-type {\n",
       "        vertical-align: middle;\n",
       "    }\n",
       "\n",
       "    .dataframe tbody tr th {\n",
       "        vertical-align: top;\n",
       "    }\n",
       "\n",
       "    .dataframe thead th {\n",
       "        text-align: right;\n",
       "    }\n",
       "</style>\n",
       "<table border=\"1\" class=\"dataframe\">\n",
       "  <thead>\n",
       "    <tr style=\"text-align: right;\">\n",
       "      <th></th>\n",
       "      <th>id</th>\n",
       "      <th>bin_0</th>\n",
       "      <th>bin_1</th>\n",
       "      <th>bin_2</th>\n",
       "      <th>bin_3</th>\n",
       "      <th>bin_4</th>\n",
       "      <th>nom_0</th>\n",
       "      <th>nom_1</th>\n",
       "      <th>nom_2</th>\n",
       "      <th>nom_3</th>\n",
       "      <th>...</th>\n",
       "      <th>nom_8</th>\n",
       "      <th>nom_9</th>\n",
       "      <th>ord_0</th>\n",
       "      <th>ord_1</th>\n",
       "      <th>ord_2</th>\n",
       "      <th>ord_3</th>\n",
       "      <th>ord_4</th>\n",
       "      <th>ord_5</th>\n",
       "      <th>day</th>\n",
       "      <th>month</th>\n",
       "    </tr>\n",
       "  </thead>\n",
       "  <tbody>\n",
       "    <tr>\n",
       "      <th>0</th>\n",
       "      <td>300000</td>\n",
       "      <td>0</td>\n",
       "      <td>0</td>\n",
       "      <td>1</td>\n",
       "      <td>T</td>\n",
       "      <td>Y</td>\n",
       "      <td>Blue</td>\n",
       "      <td>Triangle</td>\n",
       "      <td>Axolotl</td>\n",
       "      <td>Finland</td>\n",
       "      <td>...</td>\n",
       "      <td>9d117320c</td>\n",
       "      <td>3c49b42b8</td>\n",
       "      <td>2</td>\n",
       "      <td>Novice</td>\n",
       "      <td>Warm</td>\n",
       "      <td>j</td>\n",
       "      <td>P</td>\n",
       "      <td>be</td>\n",
       "      <td>5</td>\n",
       "      <td>11</td>\n",
       "    </tr>\n",
       "    <tr>\n",
       "      <th>1</th>\n",
       "      <td>300001</td>\n",
       "      <td>0</td>\n",
       "      <td>0</td>\n",
       "      <td>0</td>\n",
       "      <td>T</td>\n",
       "      <td>N</td>\n",
       "      <td>Red</td>\n",
       "      <td>Square</td>\n",
       "      <td>Lion</td>\n",
       "      <td>Canada</td>\n",
       "      <td>...</td>\n",
       "      <td>46ae3059c</td>\n",
       "      <td>285771075</td>\n",
       "      <td>1</td>\n",
       "      <td>Master</td>\n",
       "      <td>Lava Hot</td>\n",
       "      <td>l</td>\n",
       "      <td>A</td>\n",
       "      <td>RP</td>\n",
       "      <td>7</td>\n",
       "      <td>5</td>\n",
       "    </tr>\n",
       "    <tr>\n",
       "      <th>2</th>\n",
       "      <td>300002</td>\n",
       "      <td>1</td>\n",
       "      <td>0</td>\n",
       "      <td>1</td>\n",
       "      <td>F</td>\n",
       "      <td>Y</td>\n",
       "      <td>Blue</td>\n",
       "      <td>Square</td>\n",
       "      <td>Dog</td>\n",
       "      <td>China</td>\n",
       "      <td>...</td>\n",
       "      <td>b759e21f0</td>\n",
       "      <td>6f323c53f</td>\n",
       "      <td>2</td>\n",
       "      <td>Expert</td>\n",
       "      <td>Freezing</td>\n",
       "      <td>a</td>\n",
       "      <td>G</td>\n",
       "      <td>tP</td>\n",
       "      <td>1</td>\n",
       "      <td>12</td>\n",
       "    </tr>\n",
       "    <tr>\n",
       "      <th>3</th>\n",
       "      <td>300003</td>\n",
       "      <td>0</td>\n",
       "      <td>0</td>\n",
       "      <td>1</td>\n",
       "      <td>T</td>\n",
       "      <td>Y</td>\n",
       "      <td>Red</td>\n",
       "      <td>Star</td>\n",
       "      <td>Cat</td>\n",
       "      <td>China</td>\n",
       "      <td>...</td>\n",
       "      <td>0b6ec68ff</td>\n",
       "      <td>b5de3dcc4</td>\n",
       "      <td>1</td>\n",
       "      <td>Contributor</td>\n",
       "      <td>Lava Hot</td>\n",
       "      <td>b</td>\n",
       "      <td>Q</td>\n",
       "      <td>ke</td>\n",
       "      <td>2</td>\n",
       "      <td>3</td>\n",
       "    </tr>\n",
       "    <tr>\n",
       "      <th>4</th>\n",
       "      <td>300004</td>\n",
       "      <td>0</td>\n",
       "      <td>1</td>\n",
       "      <td>1</td>\n",
       "      <td>F</td>\n",
       "      <td>N</td>\n",
       "      <td>Red</td>\n",
       "      <td>Trapezoid</td>\n",
       "      <td>Dog</td>\n",
       "      <td>China</td>\n",
       "      <td>...</td>\n",
       "      <td>f91f3b1ee</td>\n",
       "      <td>967cfa9c9</td>\n",
       "      <td>3</td>\n",
       "      <td>Grandmaster</td>\n",
       "      <td>Lava Hot</td>\n",
       "      <td>l</td>\n",
       "      <td>W</td>\n",
       "      <td>qK</td>\n",
       "      <td>4</td>\n",
       "      <td>11</td>\n",
       "    </tr>\n",
       "  </tbody>\n",
       "</table>\n",
       "<p>5 rows × 24 columns</p>\n",
       "</div>"
      ],
      "text/plain": [
       "       id  bin_0  bin_1  bin_2 bin_3 bin_4 nom_0      nom_1    nom_2    nom_3  \\\n",
       "0  300000      0      0      1     T     Y  Blue   Triangle  Axolotl  Finland   \n",
       "1  300001      0      0      0     T     N   Red     Square     Lion   Canada   \n",
       "2  300002      1      0      1     F     Y  Blue     Square      Dog    China   \n",
       "3  300003      0      0      1     T     Y   Red       Star      Cat    China   \n",
       "4  300004      0      1      1     F     N   Red  Trapezoid      Dog    China   \n",
       "\n",
       "   ...      nom_8      nom_9 ord_0        ord_1     ord_2 ord_3  ord_4 ord_5  \\\n",
       "0  ...  9d117320c  3c49b42b8     2       Novice      Warm     j      P    be   \n",
       "1  ...  46ae3059c  285771075     1       Master  Lava Hot     l      A    RP   \n",
       "2  ...  b759e21f0  6f323c53f     2       Expert  Freezing     a      G    tP   \n",
       "3  ...  0b6ec68ff  b5de3dcc4     1  Contributor  Lava Hot     b      Q    ke   \n",
       "4  ...  f91f3b1ee  967cfa9c9     3  Grandmaster  Lava Hot     l      W    qK   \n",
       "\n",
       "  day month  \n",
       "0   5    11  \n",
       "1   7     5  \n",
       "2   1    12  \n",
       "3   2     3  \n",
       "4   4    11  \n",
       "\n",
       "[5 rows x 24 columns]"
      ]
     },
     "execution_count": 5,
     "metadata": {},
     "output_type": "execute_result"
    }
   ],
   "source": [
    "test.head()"
   ]
  },
  {
   "cell_type": "markdown",
   "metadata": {},
   "source": [
    "____\n",
    "\n",
    "# Forming the Data\n",
    "\n",
    "since this example depend on categorical data , we have to slice features (X) from output (y) from training data , then concatenate X from training data to features from text data . \n",
    "\n",
    "& this step to make same data processing (like label encoder & so ) for all features \n",
    "\n",
    "so first to slice X_train & X_test"
   ]
  },
  {
   "cell_type": "code",
   "execution_count": 6,
   "metadata": {
    "scrolled": true
   },
   "outputs": [
    {
     "data": {
      "text/plain": [
       "((300000, 23), (200000, 23))"
      ]
     },
     "execution_count": 6,
     "metadata": {},
     "output_type": "execute_result"
    }
   ],
   "source": [
    "X_train = train.drop(['id' , 'target'], axis=1, inplace=False)\n",
    "X_test = test.drop(['id'], axis=1, inplace=False)\n",
    "\n",
    "X_train.shape , X_test.shape"
   ]
  },
  {
   "cell_type": "markdown",
   "metadata": {},
   "source": [
    "now to concatenate them together into X"
   ]
  },
  {
   "cell_type": "code",
   "execution_count": 7,
   "metadata": {
    "scrolled": true
   },
   "outputs": [
    {
     "data": {
      "text/plain": [
       "(500000, 23)"
      ]
     },
     "execution_count": 7,
     "metadata": {},
     "output_type": "execute_result"
    }
   ],
   "source": [
    "X = pd.concat([X_train , X_test])\n",
    "X.shape"
   ]
  },
  {
   "cell_type": "markdown",
   "metadata": {},
   "source": [
    "how it looks ? "
   ]
  },
  {
   "cell_type": "code",
   "execution_count": 8,
   "metadata": {
    "scrolled": true
   },
   "outputs": [
    {
     "data": {
      "text/html": [
       "<div>\n",
       "<style scoped>\n",
       "    .dataframe tbody tr th:only-of-type {\n",
       "        vertical-align: middle;\n",
       "    }\n",
       "\n",
       "    .dataframe tbody tr th {\n",
       "        vertical-align: top;\n",
       "    }\n",
       "\n",
       "    .dataframe thead th {\n",
       "        text-align: right;\n",
       "    }\n",
       "</style>\n",
       "<table border=\"1\" class=\"dataframe\">\n",
       "  <thead>\n",
       "    <tr style=\"text-align: right;\">\n",
       "      <th></th>\n",
       "      <th>bin_0</th>\n",
       "      <th>bin_1</th>\n",
       "      <th>bin_2</th>\n",
       "      <th>bin_3</th>\n",
       "      <th>bin_4</th>\n",
       "      <th>nom_0</th>\n",
       "      <th>nom_1</th>\n",
       "      <th>nom_2</th>\n",
       "      <th>nom_3</th>\n",
       "      <th>nom_4</th>\n",
       "      <th>...</th>\n",
       "      <th>nom_8</th>\n",
       "      <th>nom_9</th>\n",
       "      <th>ord_0</th>\n",
       "      <th>ord_1</th>\n",
       "      <th>ord_2</th>\n",
       "      <th>ord_3</th>\n",
       "      <th>ord_4</th>\n",
       "      <th>ord_5</th>\n",
       "      <th>day</th>\n",
       "      <th>month</th>\n",
       "    </tr>\n",
       "  </thead>\n",
       "  <tbody>\n",
       "    <tr>\n",
       "      <th>0</th>\n",
       "      <td>0</td>\n",
       "      <td>0</td>\n",
       "      <td>0</td>\n",
       "      <td>T</td>\n",
       "      <td>Y</td>\n",
       "      <td>Green</td>\n",
       "      <td>Triangle</td>\n",
       "      <td>Snake</td>\n",
       "      <td>Finland</td>\n",
       "      <td>Bassoon</td>\n",
       "      <td>...</td>\n",
       "      <td>c389000ab</td>\n",
       "      <td>2f4cb3d51</td>\n",
       "      <td>2</td>\n",
       "      <td>Grandmaster</td>\n",
       "      <td>Cold</td>\n",
       "      <td>h</td>\n",
       "      <td>D</td>\n",
       "      <td>kr</td>\n",
       "      <td>2</td>\n",
       "      <td>2</td>\n",
       "    </tr>\n",
       "    <tr>\n",
       "      <th>1</th>\n",
       "      <td>0</td>\n",
       "      <td>1</td>\n",
       "      <td>0</td>\n",
       "      <td>T</td>\n",
       "      <td>Y</td>\n",
       "      <td>Green</td>\n",
       "      <td>Trapezoid</td>\n",
       "      <td>Hamster</td>\n",
       "      <td>Russia</td>\n",
       "      <td>Piano</td>\n",
       "      <td>...</td>\n",
       "      <td>4cd920251</td>\n",
       "      <td>f83c56c21</td>\n",
       "      <td>1</td>\n",
       "      <td>Grandmaster</td>\n",
       "      <td>Hot</td>\n",
       "      <td>a</td>\n",
       "      <td>A</td>\n",
       "      <td>bF</td>\n",
       "      <td>7</td>\n",
       "      <td>8</td>\n",
       "    </tr>\n",
       "    <tr>\n",
       "      <th>2</th>\n",
       "      <td>0</td>\n",
       "      <td>0</td>\n",
       "      <td>0</td>\n",
       "      <td>F</td>\n",
       "      <td>Y</td>\n",
       "      <td>Blue</td>\n",
       "      <td>Trapezoid</td>\n",
       "      <td>Lion</td>\n",
       "      <td>Russia</td>\n",
       "      <td>Theremin</td>\n",
       "      <td>...</td>\n",
       "      <td>de9c9f684</td>\n",
       "      <td>ae6800dd0</td>\n",
       "      <td>1</td>\n",
       "      <td>Expert</td>\n",
       "      <td>Lava Hot</td>\n",
       "      <td>h</td>\n",
       "      <td>R</td>\n",
       "      <td>Jc</td>\n",
       "      <td>7</td>\n",
       "      <td>2</td>\n",
       "    </tr>\n",
       "    <tr>\n",
       "      <th>3</th>\n",
       "      <td>0</td>\n",
       "      <td>1</td>\n",
       "      <td>0</td>\n",
       "      <td>F</td>\n",
       "      <td>Y</td>\n",
       "      <td>Red</td>\n",
       "      <td>Trapezoid</td>\n",
       "      <td>Snake</td>\n",
       "      <td>Canada</td>\n",
       "      <td>Oboe</td>\n",
       "      <td>...</td>\n",
       "      <td>4ade6ab69</td>\n",
       "      <td>8270f0d71</td>\n",
       "      <td>1</td>\n",
       "      <td>Grandmaster</td>\n",
       "      <td>Boiling Hot</td>\n",
       "      <td>i</td>\n",
       "      <td>D</td>\n",
       "      <td>kW</td>\n",
       "      <td>2</td>\n",
       "      <td>1</td>\n",
       "    </tr>\n",
       "    <tr>\n",
       "      <th>4</th>\n",
       "      <td>0</td>\n",
       "      <td>0</td>\n",
       "      <td>0</td>\n",
       "      <td>F</td>\n",
       "      <td>N</td>\n",
       "      <td>Red</td>\n",
       "      <td>Trapezoid</td>\n",
       "      <td>Lion</td>\n",
       "      <td>Canada</td>\n",
       "      <td>Oboe</td>\n",
       "      <td>...</td>\n",
       "      <td>cb43ab175</td>\n",
       "      <td>b164b72a7</td>\n",
       "      <td>1</td>\n",
       "      <td>Grandmaster</td>\n",
       "      <td>Freezing</td>\n",
       "      <td>a</td>\n",
       "      <td>R</td>\n",
       "      <td>qP</td>\n",
       "      <td>7</td>\n",
       "      <td>8</td>\n",
       "    </tr>\n",
       "  </tbody>\n",
       "</table>\n",
       "<p>5 rows × 23 columns</p>\n",
       "</div>"
      ],
      "text/plain": [
       "   bin_0  bin_1  bin_2 bin_3 bin_4  nom_0      nom_1    nom_2    nom_3  \\\n",
       "0      0      0      0     T     Y  Green   Triangle    Snake  Finland   \n",
       "1      0      1      0     T     Y  Green  Trapezoid  Hamster   Russia   \n",
       "2      0      0      0     F     Y   Blue  Trapezoid     Lion   Russia   \n",
       "3      0      1      0     F     Y    Red  Trapezoid    Snake   Canada   \n",
       "4      0      0      0     F     N    Red  Trapezoid     Lion   Canada   \n",
       "\n",
       "      nom_4  ...      nom_8      nom_9 ord_0        ord_1        ord_2  ord_3  \\\n",
       "0   Bassoon  ...  c389000ab  2f4cb3d51     2  Grandmaster         Cold      h   \n",
       "1     Piano  ...  4cd920251  f83c56c21     1  Grandmaster          Hot      a   \n",
       "2  Theremin  ...  de9c9f684  ae6800dd0     1       Expert     Lava Hot      h   \n",
       "3      Oboe  ...  4ade6ab69  8270f0d71     1  Grandmaster  Boiling Hot      i   \n",
       "4      Oboe  ...  cb43ab175  b164b72a7     1  Grandmaster     Freezing      a   \n",
       "\n",
       "  ord_4 ord_5 day month  \n",
       "0     D    kr   2     2  \n",
       "1     A    bF   7     8  \n",
       "2     R    Jc   7     2  \n",
       "3     D    kW   2     1  \n",
       "4     R    qP   7     8  \n",
       "\n",
       "[5 rows x 23 columns]"
      ]
     },
     "execution_count": 8,
     "metadata": {},
     "output_type": "execute_result"
    }
   ],
   "source": [
    "X.head()"
   ]
  },
  {
   "cell_type": "markdown",
   "metadata": {},
   "source": [
    "______\n",
    "\n",
    "# Data Processing\n",
    "\n",
    "\n",
    "no we'll call it data , so it be suitable for all functions we define , which depend on global data"
   ]
  },
  {
   "cell_type": "code",
   "execution_count": 9,
   "metadata": {
    "scrolled": true
   },
   "outputs": [],
   "source": [
    "data = X"
   ]
  },
  {
   "cell_type": "markdown",
   "metadata": {},
   "source": [
    "now for plotting some features , to be sure its values are well represented"
   ]
  },
  {
   "cell_type": "code",
   "execution_count": 10,
   "metadata": {
    "scrolled": true
   },
   "outputs": [
    {
     "data": {
      "image/png": "[encoded data removed]",
      "text/plain": [
       "<Figure size 432x288 with 1 Axes>"
      ]
     },
     "metadata": {
      "needs_background": "light"
     },
     "output_type": "display_data"
    }
   ],
   "source": [
    "CPlot('bin_0')"
   ]
  },
  {
   "cell_type": "code",
   "execution_count": 11,
   "metadata": {
    "scrolled": true
   },
   "outputs": [
    {
     "data": {
      "image/png": "[encoded data removed]",
      "text/plain": [
       "<Figure size 432x288 with 1 Axes>"
      ]
     },
     "metadata": {
      "needs_background": "light"
     },
     "output_type": "display_data"
    }
   ],
   "source": [
    "CPlot('bin_1')"
   ]
  },
  {
   "cell_type": "code",
   "execution_count": 12,
   "metadata": {
    "scrolled": true
   },
   "outputs": [
    {
     "data": {
      "image/png": "[encoded data removed]",
      "text/plain": [
       "<Figure size 432x288 with 1 Axes>"
      ]
     },
     "metadata": {
      "needs_background": "light"
     },
     "output_type": "display_data"
    }
   ],
   "source": [
    "CPlot('bin_2')"
   ]
  },
  {
   "cell_type": "code",
   "execution_count": 13,
   "metadata": {
    "scrolled": true
   },
   "outputs": [
    {
     "data": {
      "image/png": "[encoded data removed]",
      "text/plain": [
       "<Figure size 432x288 with 1 Axes>"
      ]
     },
     "metadata": {
      "needs_background": "light"
     },
     "output_type": "display_data"
    }
   ],
   "source": [
    "CPlot('bin_3')"
   ]
  },
  {
   "cell_type": "markdown",
   "metadata": {},
   "source": [
    "_____\n",
    "\n",
    "great . \n",
    "\n",
    "for bin 3 , since it got T for True & F for False , let's map it to new feature bin 03, with values 1 , 0"
   ]
  },
  {
   "cell_type": "code",
   "execution_count": 14,
   "metadata": {
    "scrolled": true
   },
   "outputs": [],
   "source": [
    "Mapp('bin_3' , 'bin_03' , {'T':1 , 'F':0} , True)"
   ]
  },
  {
   "cell_type": "markdown",
   "metadata": {},
   "source": [
    "how it looks now"
   ]
  },
  {
   "cell_type": "code",
   "execution_count": 15,
   "metadata": {
    "scrolled": true
   },
   "outputs": [
    {
     "data": {
      "text/html": [
       "<div>\n",
       "<style scoped>\n",
       "    .dataframe tbody tr th:only-of-type {\n",
       "        vertical-align: middle;\n",
       "    }\n",
       "\n",
       "    .dataframe tbody tr th {\n",
       "        vertical-align: top;\n",
       "    }\n",
       "\n",
       "    .dataframe thead th {\n",
       "        text-align: right;\n",
       "    }\n",
       "</style>\n",
       "<table border=\"1\" class=\"dataframe\">\n",
       "  <thead>\n",
       "    <tr style=\"text-align: right;\">\n",
       "      <th></th>\n",
       "      <th>bin_0</th>\n",
       "      <th>bin_1</th>\n",
       "      <th>bin_2</th>\n",
       "      <th>bin_4</th>\n",
       "      <th>nom_0</th>\n",
       "      <th>nom_1</th>\n",
       "      <th>nom_2</th>\n",
       "      <th>nom_3</th>\n",
       "      <th>nom_4</th>\n",
       "      <th>nom_5</th>\n",
       "      <th>...</th>\n",
       "      <th>nom_9</th>\n",
       "      <th>ord_0</th>\n",
       "      <th>ord_1</th>\n",
       "      <th>ord_2</th>\n",
       "      <th>ord_3</th>\n",
       "      <th>ord_4</th>\n",
       "      <th>ord_5</th>\n",
       "      <th>day</th>\n",
       "      <th>month</th>\n",
       "      <th>bin_03</th>\n",
       "    </tr>\n",
       "  </thead>\n",
       "  <tbody>\n",
       "    <tr>\n",
       "      <th>0</th>\n",
       "      <td>0</td>\n",
       "      <td>0</td>\n",
       "      <td>0</td>\n",
       "      <td>Y</td>\n",
       "      <td>Green</td>\n",
       "      <td>Triangle</td>\n",
       "      <td>Snake</td>\n",
       "      <td>Finland</td>\n",
       "      <td>Bassoon</td>\n",
       "      <td>50f116bcf</td>\n",
       "      <td>...</td>\n",
       "      <td>2f4cb3d51</td>\n",
       "      <td>2</td>\n",
       "      <td>Grandmaster</td>\n",
       "      <td>Cold</td>\n",
       "      <td>h</td>\n",
       "      <td>D</td>\n",
       "      <td>kr</td>\n",
       "      <td>2</td>\n",
       "      <td>2</td>\n",
       "      <td>1</td>\n",
       "    </tr>\n",
       "    <tr>\n",
       "      <th>1</th>\n",
       "      <td>0</td>\n",
       "      <td>1</td>\n",
       "      <td>0</td>\n",
       "      <td>Y</td>\n",
       "      <td>Green</td>\n",
       "      <td>Trapezoid</td>\n",
       "      <td>Hamster</td>\n",
       "      <td>Russia</td>\n",
       "      <td>Piano</td>\n",
       "      <td>b3b4d25d0</td>\n",
       "      <td>...</td>\n",
       "      <td>f83c56c21</td>\n",
       "      <td>1</td>\n",
       "      <td>Grandmaster</td>\n",
       "      <td>Hot</td>\n",
       "      <td>a</td>\n",
       "      <td>A</td>\n",
       "      <td>bF</td>\n",
       "      <td>7</td>\n",
       "      <td>8</td>\n",
       "      <td>1</td>\n",
       "    </tr>\n",
       "    <tr>\n",
       "      <th>2</th>\n",
       "      <td>0</td>\n",
       "      <td>0</td>\n",
       "      <td>0</td>\n",
       "      <td>Y</td>\n",
       "      <td>Blue</td>\n",
       "      <td>Trapezoid</td>\n",
       "      <td>Lion</td>\n",
       "      <td>Russia</td>\n",
       "      <td>Theremin</td>\n",
       "      <td>3263bdce5</td>\n",
       "      <td>...</td>\n",
       "      <td>ae6800dd0</td>\n",
       "      <td>1</td>\n",
       "      <td>Expert</td>\n",
       "      <td>Lava Hot</td>\n",
       "      <td>h</td>\n",
       "      <td>R</td>\n",
       "      <td>Jc</td>\n",
       "      <td>7</td>\n",
       "      <td>2</td>\n",
       "      <td>0</td>\n",
       "    </tr>\n",
       "    <tr>\n",
       "      <th>3</th>\n",
       "      <td>0</td>\n",
       "      <td>1</td>\n",
       "      <td>0</td>\n",
       "      <td>Y</td>\n",
       "      <td>Red</td>\n",
       "      <td>Trapezoid</td>\n",
       "      <td>Snake</td>\n",
       "      <td>Canada</td>\n",
       "      <td>Oboe</td>\n",
       "      <td>f12246592</td>\n",
       "      <td>...</td>\n",
       "      <td>8270f0d71</td>\n",
       "      <td>1</td>\n",
       "      <td>Grandmaster</td>\n",
       "      <td>Boiling Hot</td>\n",
       "      <td>i</td>\n",
       "      <td>D</td>\n",
       "      <td>kW</td>\n",
       "      <td>2</td>\n",
       "      <td>1</td>\n",
       "      <td>0</td>\n",
       "    </tr>\n",
       "    <tr>\n",
       "      <th>4</th>\n",
       "      <td>0</td>\n",
       "      <td>0</td>\n",
       "      <td>0</td>\n",
       "      <td>N</td>\n",
       "      <td>Red</td>\n",
       "      <td>Trapezoid</td>\n",
       "      <td>Lion</td>\n",
       "      <td>Canada</td>\n",
       "      <td>Oboe</td>\n",
       "      <td>5b0f5acd5</td>\n",
       "      <td>...</td>\n",
       "      <td>b164b72a7</td>\n",
       "      <td>1</td>\n",
       "      <td>Grandmaster</td>\n",
       "      <td>Freezing</td>\n",
       "      <td>a</td>\n",
       "      <td>R</td>\n",
       "      <td>qP</td>\n",
       "      <td>7</td>\n",
       "      <td>8</td>\n",
       "      <td>0</td>\n",
       "    </tr>\n",
       "  </tbody>\n",
       "</table>\n",
       "<p>5 rows × 23 columns</p>\n",
       "</div>"
      ],
      "text/plain": [
       "   bin_0  bin_1  bin_2 bin_4  nom_0      nom_1    nom_2    nom_3     nom_4  \\\n",
       "0      0      0      0     Y  Green   Triangle    Snake  Finland   Bassoon   \n",
       "1      0      1      0     Y  Green  Trapezoid  Hamster   Russia     Piano   \n",
       "2      0      0      0     Y   Blue  Trapezoid     Lion   Russia  Theremin   \n",
       "3      0      1      0     Y    Red  Trapezoid    Snake   Canada      Oboe   \n",
       "4      0      0      0     N    Red  Trapezoid     Lion   Canada      Oboe   \n",
       "\n",
       "       nom_5  ...      nom_9 ord_0        ord_1        ord_2  ord_3 ord_4  \\\n",
       "0  50f116bcf  ...  2f4cb3d51     2  Grandmaster         Cold      h     D   \n",
       "1  b3b4d25d0  ...  f83c56c21     1  Grandmaster          Hot      a     A   \n",
       "2  3263bdce5  ...  ae6800dd0     1       Expert     Lava Hot      h     R   \n",
       "3  f12246592  ...  8270f0d71     1  Grandmaster  Boiling Hot      i     D   \n",
       "4  5b0f5acd5  ...  b164b72a7     1  Grandmaster     Freezing      a     R   \n",
       "\n",
       "  ord_5 day month bin_03  \n",
       "0    kr   2     2      1  \n",
       "1    bF   7     8      1  \n",
       "2    Jc   7     2      0  \n",
       "3    kW   2     1      0  \n",
       "4    qP   7     8      0  \n",
       "\n",
       "[5 rows x 23 columns]"
      ]
     },
     "execution_count": 15,
     "metadata": {},
     "output_type": "execute_result"
    }
   ],
   "source": [
    "data.head()"
   ]
  },
  {
   "cell_type": "markdown",
   "metadata": {},
   "source": [
    "plot it "
   ]
  },
  {
   "cell_type": "code",
   "execution_count": 16,
   "metadata": {
    "scrolled": true
   },
   "outputs": [
    {
     "data": {
      "image/png": "[encoded data removed]",
      "text/plain": [
       "<Figure size 432x288 with 1 Axes>"
      ]
     },
     "metadata": {
      "needs_background": "light"
     },
     "output_type": "display_data"
    }
   ],
   "source": [
    "CPlot('bin_03')"
   ]
  },
  {
   "cell_type": "markdown",
   "metadata": {},
   "source": [
    "____\n",
    "\n",
    "we'll repeat it for bin 4 , Yes & No will be 1 & 0"
   ]
  },
  {
   "cell_type": "code",
   "execution_count": 17,
   "metadata": {
    "scrolled": true
   },
   "outputs": [],
   "source": [
    "Mapp('bin_4' , 'bin_04' , {'Y':1 , 'N':0} , True)"
   ]
  },
  {
   "cell_type": "markdown",
   "metadata": {},
   "source": [
    "plot it"
   ]
  },
  {
   "cell_type": "code",
   "execution_count": 18,
   "metadata": {
    "scrolled": true
   },
   "outputs": [
    {
     "data": {
      "image/png": "[encoded data removed]",
      "text/plain": [
       "<Figure size 432x288 with 1 Axes>"
      ]
     },
     "metadata": {
      "needs_background": "light"
     },
     "output_type": "display_data"
    }
   ],
   "source": [
    "CPlot('bin_04')"
   ]
  },
  {
   "cell_type": "markdown",
   "metadata": {},
   "source": [
    "_____\n",
    "\n",
    "& since we use number of unique values for feature on alot of things , let's show them "
   ]
  },
  {
   "cell_type": "code",
   "execution_count": 19,
   "metadata": {
    "scrolled": true
   },
   "outputs": [
    {
     "name": "stdout",
     "output_type": "stream",
     "text": [
      "Length of unique data for   bin_0   is    2 \n",
      "Length of unique data for   bin_1   is    2 \n",
      "Length of unique data for   bin_2   is    2 \n",
      "Length of unique data for   nom_0   is    3 \n",
      "Length of unique data for   nom_1   is    6 \n",
      "Length of unique data for   nom_2   is    6 \n",
      "Length of unique data for   nom_3   is    6 \n",
      "Length of unique data for   nom_4   is    4 \n",
      "Length of unique data for   nom_5   is    222 \n",
      "Length of unique data for   nom_6   is    522 \n",
      "Length of unique data for   nom_7   is    1220 \n",
      "Length of unique data for   nom_8   is    2219 \n",
      "Length of unique data for   nom_9   is    12068 \n",
      "Length of unique data for   ord_0   is    3 \n",
      "Length of unique data for   ord_1   is    5 \n",
      "Length of unique data for   ord_2   is    6 \n",
      "Length of unique data for   ord_3   is    15 \n",
      "Length of unique data for   ord_4   is    26 \n",
      "Length of unique data for   ord_5   is    192 \n",
      "Length of unique data for   day   is    7 \n",
      "Length of unique data for   month   is    12 \n",
      "Length of unique data for   bin_03   is    2 \n",
      "Length of unique data for   bin_04   is    2 \n"
     ]
    }
   ],
   "source": [
    "UniqueAll(False)"
   ]
  },
  {
   "cell_type": "markdown",
   "metadata": {},
   "source": [
    "looks fine , may be except few features which got a high number of unique values , so it might not be very helpful in training\n",
    "\n",
    "_____\n",
    "\n",
    "# Label Encoding\n",
    "\n",
    "now we need to apply label encoding to some categorical features , so it be ready for training \n",
    "\n",
    "let's start with features : 'nom_0' , 'nom_1' , 'nom_2' , 'nom_3' , 'nom_4'\n"
   ]
  },
  {
   "cell_type": "code",
   "execution_count": 20,
   "metadata": {
    "scrolled": true
   },
   "outputs": [],
   "source": [
    "for C in ['nom_0' , 'nom_1' , 'nom_2' , 'nom_3' , 'nom_4'] : \n",
    "    enc  = LabelEncoder()\n",
    "    enc.fit(X[C])\n",
    "    X[C] = enc.transform(X[C])"
   ]
  },
  {
   "cell_type": "markdown",
   "metadata": {},
   "source": [
    "how it looks now"
   ]
  },
  {
   "cell_type": "code",
   "execution_count": 21,
   "metadata": {
    "scrolled": true
   },
   "outputs": [
    {
     "data": {
      "text/html": [
       "<div>\n",
       "<style scoped>\n",
       "    .dataframe tbody tr th:only-of-type {\n",
       "        vertical-align: middle;\n",
       "    }\n",
       "\n",
       "    .dataframe tbody tr th {\n",
       "        vertical-align: top;\n",
       "    }\n",
       "\n",
       "    .dataframe thead th {\n",
       "        text-align: right;\n",
       "    }\n",
       "</style>\n",
       "<table border=\"1\" class=\"dataframe\">\n",
       "  <thead>\n",
       "    <tr style=\"text-align: right;\">\n",
       "      <th></th>\n",
       "      <th>bin_0</th>\n",
       "      <th>bin_1</th>\n",
       "      <th>bin_2</th>\n",
       "      <th>nom_0</th>\n",
       "      <th>nom_1</th>\n",
       "      <th>nom_2</th>\n",
       "      <th>nom_3</th>\n",
       "      <th>nom_4</th>\n",
       "      <th>nom_5</th>\n",
       "      <th>nom_6</th>\n",
       "      <th>...</th>\n",
       "      <th>ord_0</th>\n",
       "      <th>ord_1</th>\n",
       "      <th>ord_2</th>\n",
       "      <th>ord_3</th>\n",
       "      <th>ord_4</th>\n",
       "      <th>ord_5</th>\n",
       "      <th>day</th>\n",
       "      <th>month</th>\n",
       "      <th>bin_03</th>\n",
       "      <th>bin_04</th>\n",
       "    </tr>\n",
       "  </thead>\n",
       "  <tbody>\n",
       "    <tr>\n",
       "      <th>0</th>\n",
       "      <td>0</td>\n",
       "      <td>0</td>\n",
       "      <td>0</td>\n",
       "      <td>1</td>\n",
       "      <td>5</td>\n",
       "      <td>5</td>\n",
       "      <td>3</td>\n",
       "      <td>0</td>\n",
       "      <td>50f116bcf</td>\n",
       "      <td>3ac1b8814</td>\n",
       "      <td>...</td>\n",
       "      <td>2</td>\n",
       "      <td>Grandmaster</td>\n",
       "      <td>Cold</td>\n",
       "      <td>h</td>\n",
       "      <td>D</td>\n",
       "      <td>kr</td>\n",
       "      <td>2</td>\n",
       "      <td>2</td>\n",
       "      <td>1</td>\n",
       "      <td>1</td>\n",
       "    </tr>\n",
       "    <tr>\n",
       "      <th>1</th>\n",
       "      <td>0</td>\n",
       "      <td>1</td>\n",
       "      <td>0</td>\n",
       "      <td>1</td>\n",
       "      <td>4</td>\n",
       "      <td>3</td>\n",
       "      <td>5</td>\n",
       "      <td>2</td>\n",
       "      <td>b3b4d25d0</td>\n",
       "      <td>fbcb50fc1</td>\n",
       "      <td>...</td>\n",
       "      <td>1</td>\n",
       "      <td>Grandmaster</td>\n",
       "      <td>Hot</td>\n",
       "      <td>a</td>\n",
       "      <td>A</td>\n",
       "      <td>bF</td>\n",
       "      <td>7</td>\n",
       "      <td>8</td>\n",
       "      <td>1</td>\n",
       "      <td>1</td>\n",
       "    </tr>\n",
       "    <tr>\n",
       "      <th>2</th>\n",
       "      <td>0</td>\n",
       "      <td>0</td>\n",
       "      <td>0</td>\n",
       "      <td>0</td>\n",
       "      <td>4</td>\n",
       "      <td>4</td>\n",
       "      <td>5</td>\n",
       "      <td>3</td>\n",
       "      <td>3263bdce5</td>\n",
       "      <td>0922e3cb8</td>\n",
       "      <td>...</td>\n",
       "      <td>1</td>\n",
       "      <td>Expert</td>\n",
       "      <td>Lava Hot</td>\n",
       "      <td>h</td>\n",
       "      <td>R</td>\n",
       "      <td>Jc</td>\n",
       "      <td>7</td>\n",
       "      <td>2</td>\n",
       "      <td>0</td>\n",
       "      <td>1</td>\n",
       "    </tr>\n",
       "    <tr>\n",
       "      <th>3</th>\n",
       "      <td>0</td>\n",
       "      <td>1</td>\n",
       "      <td>0</td>\n",
       "      <td>2</td>\n",
       "      <td>4</td>\n",
       "      <td>5</td>\n",
       "      <td>0</td>\n",
       "      <td>1</td>\n",
       "      <td>f12246592</td>\n",
       "      <td>50d7ad46a</td>\n",
       "      <td>...</td>\n",
       "      <td>1</td>\n",
       "      <td>Grandmaster</td>\n",
       "      <td>Boiling Hot</td>\n",
       "      <td>i</td>\n",
       "      <td>D</td>\n",
       "      <td>kW</td>\n",
       "      <td>2</td>\n",
       "      <td>1</td>\n",
       "      <td>0</td>\n",
       "      <td>1</td>\n",
       "    </tr>\n",
       "    <tr>\n",
       "      <th>4</th>\n",
       "      <td>0</td>\n",
       "      <td>0</td>\n",
       "      <td>0</td>\n",
       "      <td>2</td>\n",
       "      <td>4</td>\n",
       "      <td>4</td>\n",
       "      <td>0</td>\n",
       "      <td>1</td>\n",
       "      <td>5b0f5acd5</td>\n",
       "      <td>1fe17a1fd</td>\n",
       "      <td>...</td>\n",
       "      <td>1</td>\n",
       "      <td>Grandmaster</td>\n",
       "      <td>Freezing</td>\n",
       "      <td>a</td>\n",
       "      <td>R</td>\n",
       "      <td>qP</td>\n",
       "      <td>7</td>\n",
       "      <td>8</td>\n",
       "      <td>0</td>\n",
       "      <td>0</td>\n",
       "    </tr>\n",
       "  </tbody>\n",
       "</table>\n",
       "<p>5 rows × 23 columns</p>\n",
       "</div>"
      ],
      "text/plain": [
       "   bin_0  bin_1  bin_2  nom_0  nom_1  nom_2  nom_3  nom_4      nom_5  \\\n",
       "0      0      0      0      1      5      5      3      0  50f116bcf   \n",
       "1      0      1      0      1      4      3      5      2  b3b4d25d0   \n",
       "2      0      0      0      0      4      4      5      3  3263bdce5   \n",
       "3      0      1      0      2      4      5      0      1  f12246592   \n",
       "4      0      0      0      2      4      4      0      1  5b0f5acd5   \n",
       "\n",
       "       nom_6  ... ord_0        ord_1        ord_2  ord_3 ord_4 ord_5 day  \\\n",
       "0  3ac1b8814  ...     2  Grandmaster         Cold      h     D    kr   2   \n",
       "1  fbcb50fc1  ...     1  Grandmaster          Hot      a     A    bF   7   \n",
       "2  0922e3cb8  ...     1       Expert     Lava Hot      h     R    Jc   7   \n",
       "3  50d7ad46a  ...     1  Grandmaster  Boiling Hot      i     D    kW   2   \n",
       "4  1fe17a1fd  ...     1  Grandmaster     Freezing      a     R    qP   7   \n",
       "\n",
       "  month bin_03  bin_04  \n",
       "0     2      1       1  \n",
       "1     8      1       1  \n",
       "2     2      0       1  \n",
       "3     1      0       1  \n",
       "4     8      0       0  \n",
       "\n",
       "[5 rows x 23 columns]"
      ]
     },
     "execution_count": 21,
     "metadata": {},
     "output_type": "execute_result"
    }
   ],
   "source": [
    "data.head()"
   ]
  },
  {
   "cell_type": "markdown",
   "metadata": {},
   "source": [
    "plot them "
   ]
  },
  {
   "cell_type": "code",
   "execution_count": 22,
   "metadata": {},
   "outputs": [
    {
     "data": {
      "image/png": "[encoded data removed]",
      "text/plain": [
       "<Figure size 432x288 with 1 Axes>"
      ]
     },
     "metadata": {
      "needs_background": "light"
     },
     "output_type": "display_data"
    }
   ],
   "source": [
    "CPlot('nom_0')"
   ]
  },
  {
   "cell_type": "code",
   "execution_count": 23,
   "metadata": {
    "scrolled": true
   },
   "outputs": [
    {
     "data": {
      "image/png": "[encoded data removed]",
      "text/plain": [
       "<Figure size 432x288 with 1 Axes>"
      ]
     },
     "metadata": {
      "needs_background": "light"
     },
     "output_type": "display_data"
    }
   ],
   "source": [
    "CPlot('nom_1')"
   ]
  },
  {
   "cell_type": "code",
   "execution_count": 24,
   "metadata": {},
   "outputs": [
    {
     "data": {
      "image/png": "[encoded data removed]",
      "text/plain": [
       "<Figure size 432x288 with 1 Axes>"
      ]
     },
     "metadata": {
      "needs_background": "light"
     },
     "output_type": "display_data"
    }
   ],
   "source": [
    "CPlot('nom_2')"
   ]
  },
  {
   "cell_type": "code",
   "execution_count": 25,
   "metadata": {
    "scrolled": true
   },
   "outputs": [
    {
     "data": {
      "image/png": "[encoded data removed]",
      "text/plain": [
       "<Figure size 432x288 with 1 Axes>"
      ]
     },
     "metadata": {
      "needs_background": "light"
     },
     "output_type": "display_data"
    }
   ],
   "source": [
    "CPlot('nom_3')"
   ]
  },
  {
   "cell_type": "code",
   "execution_count": 26,
   "metadata": {
    "scrolled": true
   },
   "outputs": [
    {
     "data": {
      "image/png": "[encoded data removed]",
      "text/plain": [
       "<Figure size 432x288 with 1 Axes>"
      ]
     },
     "metadata": {
      "needs_background": "light"
     },
     "output_type": "display_data"
    }
   ],
   "source": [
    "CPlot('nom_4')"
   ]
  },
  {
   "cell_type": "markdown",
   "metadata": {},
   "source": [
    "_____\n",
    "\n",
    "for nom_5 & nom_6 , let's have a look to their unique values"
   ]
  },
  {
   "cell_type": "code",
   "execution_count": 27,
   "metadata": {
    "scrolled": true
   },
   "outputs": [
    {
     "name": "stdout",
     "output_type": "stream",
     "text": [
      "Number of unique vaure are 222 which are : \n",
      " ['50f116bcf', 'b3b4d25d0', '3263bdce5', 'f12246592', '5b0f5acd5', '46cab09da', 'be5592604', '72f8028dc', '4604905e7', 'ad95dc0ee', '2ff007c26', 'a35c346aa', 'dbfb714a4', 'e1558b071', '39647c92a', 'ee55b9d67', '416a8f3ab', '91bde92fa', '3aa9329e2', '568550f04', 'caf83c0b5', '908a1b9c9', 'e844a1f66', 'dbc448931', '2979f0d45', '96c73114c', 'b7bb45938', '7da3e4aec', 'be4578201', 'dc07effb0', '88917a066', 'f2d59cf51', '5d18641ff', '9347491f2', '475e79160', 'e70a6270d', '5b1a9f841', 'e0efe9d20', 'd1b1709e8', '9bb7ea2da', '6fec43dd8', '0dee9b39a', '527ded12a', '321bf770e', 'f7821e391', '0de4acd31', '185ba0a59', '4845cc770', 'bdb9fef4a', '3fef1a765', '2cc9e16b9', 'fd04a970f', '81f9d3312', '30a15b6bd', '8dcf8adfb', '83b38aa6b', '74bd42d5f', '5a94fc1d9', '4e1b529f6', '8d5d9f3db', '472efea17', '740fb99a9', '075ceb58b', '0ef5c1879', '640e1fdd5', 'a3f640358', 'c5725677e', '3b5632a0c', '534be2753', '30a530eab', '7ee26092e', 'c0534106d', '713ad10a7', '9ad6558d1', 'ef38568df', 'de04b8750', 'bd40c81f3', 'ade526ba7', '4e28ceffa', '1305d6e77', '3585ff84b', 'b0c8dba76', '33adb4760', '66669a44f', '9ba4e87a7', 'f50eb07ae', '29e7f8525', 'd9becff68', '159a7306f', 'a5c276589', '0870880f6', '92190168b', '5a466e166', 'e7d9ca356', 'd372c8993', 'b0faff28f', 'e5b29c42b', 'b97f51ac4', '778fdbe56', 'f0c1ceee4', '8266050c6', '6f70dc2df', '84b0081ad', '4464569ee', 'e85ec20b5', '91ea3e4dd', 'e6f45aa26', '488406659', '1e6cb96e8', 'f9d17bb93', '40e0157b1', 'e9f44a509', '493de6347', 'f8faea16f', '0eb46e992', '63f642dd9', '1f1702d2f', '71583d387', 'c2843dc45', '2e7f4d636', '6a2269152', '924346656', '6cd0619e0', '91a20b464', '3685a0904', '0de5598a9', '3aabfa2fc', '115a252ba', 'eb69430d6', '05950689f', '037bd73d8', '81264f81f', '19db35594', '005dd4ce3', '20b10a832', 'ddac78300', 'baab29d3d', 'bd7740b93', '524b3f349', '60a44c8f4', '8573fa81a', '35f65a9bf', '372f6d6ce', 'af088d192', 'e52fbf1c8', '49f4b29cc', 'a9ed6dfea', 'b8d451029', 'a3471b9d9', '06eeaf0aa', 'f6c524860', 'df51b96fc', '479fd7aea', 'dd500b26a', '7e9cb0f9a', 'db5e25328', '2d61990e2', '2cadfed8e', 'e428c040e', '4f7d91943', '88707c9ab', '76be0b8b1', '1bd1068d9', '0b3bec656', 'a51e7974e', '85159d577', '96c83ac09', '6c90f81cd', 'a93b89fc9', '0bdf8165a', 'da60580a8', 'f2a6d797b', '7741f57bd', '2a0e95ba1', 'ead12da87', 'e08092732', '176809a41', 'ca82ad111', '17a3709ae', '3271e5526', '4173a0252', '116f7e3e2', 'defc6dd20', 'e9c6fe0f7', '4f2b65e1e', '0870b0a5d', '552e3fdc9', '05d5943a3', '586b51342', '79923828f', '077fd9465', 'f9e5266f9', '6020a8124', '8cf6c9f74', '09a4ad97d', 'b4c8e6595', 'fa0a88fe9', '59e434d8a', '200009fc3', '59497d53c', '77b08badd', 'eb0004a0b', '34ad60330', '3283ca434', '2cac4af40', 'f802a9849', 'c08ba4f4c', '09ed0a686', '5f7065a42', 'a21564cab', '7a12c88d2', '82d1a6dbb', '9ecc58be1', 'd3079098d', '4ebe94c28', '448a66834', '46bd3558d', '91c80026f', '88f104c00', 'f710fca39', '5331f98fb', '1fd0233cd']\n"
     ]
    }
   ],
   "source": [
    "Unique('nom_5')"
   ]
  },
  {
   "cell_type": "code",
   "execution_count": 28,
   "metadata": {
    "scrolled": true
   },
   "outputs": [
    {
     "name": "stdout",
     "output_type": "stream",
     "text": [
      "Number of unique vaure are 522 which are : \n",
      " ['3ac1b8814', 'fbcb50fc1', '0922e3cb8', '50d7ad46a', '1fe17a1fd', '29a854620', '3393a0f78', '55eed5058', '3e44d44eb', '8ed6221ae', '153316f52', '6ea52a806', '1795ef28b', '628f3170f', '08b282a6c', '395941181', 'd44f7245a', '78500847e', '9448b8e3b', '9b1c3c8b7', 'be5a0f5a9', '687eaba3e', '5d7c5c023', '92f461454', 'cd8e3a0a7', 'f24d83141', '16dfb662a', 'cefab1020', '508ff88dc', '6d2cd10c5', 'ddb583aa3', '2eadb68c5', '854f72f28', '42b1cc2fd', 'fa2bf5f22', '8fec7bc42', 'fc4518443', 'bc82e0ba0', '1ad744242', '5cbbea089', '8fb440e53', 'af9278b96', '180a3d6cb', 'e10910468', '2ed5a94b0', '2a22b315e', '55a24a71b', 'c3517eaeb', 'cf82b283d', '0b10fcecc', 'a028c07af', 'd213f48ed', '5a5e620b3', 'c023e914a', '9f53d30ad', '2d9852300', '8cc791aa8', '54474e8d8', '36df19a6e', '0bcb379d8', '7dd3f58e9', '975346729', '96c110558', '8bb163a87', 'df5b440ae', 'd760c59b0', 'e3396fbd5', 'f497b97d7', 'd405aebc1', '6c0354890', '8c9d16cc3', '9e0a099c7', 'fac5eff9e', 'c9eedfbc2', '44e4c0bba', 'c8436c277', 'acf5b10dd', 'a405b7cf0', 'dfb9bd114', 'b69c236cb', 'b8caba53f', '126a4f83d', '2df6f79a2', '565a89e93', '29e27ff9d', '2268327b2', 'fb80a804f', 'a406a5f12', '3bac0bd8e', 'ea7a1aaf6', 'ec5064acb', 'f083d48ad', 'd4fd01769', 'fd9370b9e', 'a9925d0e5', '09e796196', '603232dea', 'd43e63dc9', '5194690a0', 'cf8b12b4e', 'dfb457d2a', 'a26bedd00', '3c5d81a52', '3b9693870', '96abdfa66', 'd88fca3ba', 'eeda68203', '487c32dfa', 'c135cdf77', 'd4d727716', '5755f93b2', '642fcc7be', '4c1bdbe7b', 'efa38c99d', '6d7f8c086', '7112aaf8e', 'e0664a4d3', 'aed51f2c9', '02d689659', '7d8bc814a', '70a942fc1', '2cd425e1f', '63d0e6105', 'e77244b50', '839a6bcdb', '18a901239', 'fc613f31d', '0e2f036b5', 'ae67aec36', 'f14fe8bc5', 'fc88900c4', 'fbbdfc611', '71c68195d', '718fd9453', 'c73e4dfe1', '20dc501c6', '89e65bb86', '21e2c2d57', '017eb57f0', 'dee9cf5e9', '9abb2ac1a', 'ec416c384', '0d50f61fd', '36282e811', '113deddc9', 'df184daf2', 'd166613dc', '8bd314488', '1abac47d0', 'fe0cddc2c', '5c4ee13e3', 'f461f837c', '24a1bea30', '498b2bdcb', 'ebd664cd6', 'e2559b9ab', 'b628a222c', 'dc0536549', '2bdc0a5d0', '5cabda141', 'b321e8ee3', '9218550d8', '29b650229', 'f0c4b23ef', '520806ce2', '4f849ad2d', 'e550bcc1b', '34256b89f', '309e105f1', '2f6efc190', 'df91d98af', '8bbe5580d', '3e41282ec', '77ad092c1', 'afebf0803', 'edb3cf6c8', '4e6cc8696', 'b5f4a755a', 'bb219c9ac', '1869e63b0', '32b4b12b1', 'ea64fbdeb', '40ac3fcd5', 'd9004c5c2', '4daee3baf', '9a16c7c8f', '9ceb19dd6', '063f4307d', '85885b27e', '27828c378', '7909ef46d', '8518cecf3', 'baef8ee7b', 'c103290d4', 'cae4fb7f2', '74e0be86d', '882ce2ad7', 'cebefe5b5', '0302f1ffc', '0b23e3352', 'c79a72c72', 'c75b3104a', 'e16557b2b', 'adfb4cba3', '01455237a', 'f36d9a851', '031d49dfc', 'cd225807c', 'c0f1061ee', 'dd1dbed78', '5786b10d7', 'b1faf70a1', 'f425b1c8c', '612641073', 'd76a148ab', 'c36cea1f7', '90ba6c9a6', 'b511f5bff', '6046454de', 'c06f1b9f7', '6f438920f', '6057ca561', 'b1c48d202', '65aae1692', '50e49ea04', 'db64717a3', 'db35bbdcb', '57aa15561', 'bf82c01fa', '5fa8beadb', 'e63f69ba1', '25d3a1087', '28b8e5350', 'ac8c42404', '9972df3b0', '2473094a9', 'c9a951efa', '32be571ee', '5b2d457f3', '9afd9530d', '86021cf04', 'a520e2537', '7e240024b', 'aed128d19', '66e2654cb', '0aeb8fe13', '43b8c397b', 'f134870d4', 'a6542cec0', '8fbaca82e', '4990652ec', '06835761e', 'b9f08dc06', '49bceb215', '97b6a3518', '28645754b', '338b8a987', '8817e18d1', '37868097a', '6c90b0073', 'fa3f6d36f', 'd6f8634af', '7f3c463a8', 'b300717cf', '35f33a8ca', '80b2270f0', 'bd47c2363', 'ad1b42856', '32db19124', 'e495d6f0f', 'd95501ac1', 'fa498a5ae', '2c7fb8434', '5fd7600de', '322121abf', '1ab5e5ad6', '1611d2b45', '4cb66e369', 'd70a70804', '51f28e64c', '6eaaa8418', 'eaaf53f6a', '418e9e936', '3c1c64eaa', '96d5497a4', 'd173ac7ca', '4cf47e292', 'f8c5dc0e0', 'd942d1e82', '1ea13ded7', '46c89ef8d', '966f4a973', '71534b2a8', 'f7e243b5d', 'ec97e8751', 'bc31d6a6d', 'dce959dcb', 'a19d81efe', '8082e0409', '4b967eac4', '11698a0b3', '70994b28a', 'cd2fa6d62', '15ea6e2bb', 'b48077cc4', '8f897ec3c', 'c5cf1fdc4', '73dd803d0', '2546024d1', 'a20513779', '67bb6c9d7', '3c2b12c56', '944239e54', 'b238965eb', 'b73a8ae77', '20636817e', 'd42f2b9ec', 'a566016d6', '126c2e512', 'fd2344f16', '945aa2bc5', '7d13ad097', 'bedc798e7', '81d59974c', 'a78e38dad', '339c0fa05', '23311af90', 'cd94f29d1', '708e87b0e', '12d88c9c3', 'ffc60be1c', 'd2ce6b1c7', '68dd873e4', '6a53b5f5c', '89a937a9f', '78acf1908', '1c34a67d7', '51d5f02c1', '985c40910', 'b83511180', '54efb1985', '788ba7aea', '51477cd88', '19505136a', '309707034', 'beb20ea99', 'e7a7bf2e1', 'cad70d692', '116d9fcd9', '8fd64cb59', '5fc007fd3', '95572215a', '987d29cca', '162fc2192', '7a8736321', '8a34317cb', 'e4d51bdd5', '2936160c7', '67721d105', '097ff91b3', '79a82b7c0', 'c3c8b7b13', 'd83ae1b30', '74e5a0bce', '4fa3092a4', '860bb37b4', '5d47a598c', 'eaa89fbcc', '231233ca9', '2837cf7b8', 'e7073f6a2', '1b36c0b8c', '5ff2c0a8c', '73d7ca889', '5a49dd8f6', '43744dfd9', 'b2480a857', '485fc6466', '705cb7579', '077e720aa', '8d1b72979', '27e7dbafa', 'cbb210c0a', '9a70de492', '91e1a9d16', 'aee98fa47', '0ed70b7b1', 'd5febb6ef', '1537295c3', 'f64fe5bc0', 'e19cd8107', '800577110', '7185a30dc', '3c7643929', '49d1a98ef', '1573e6c5f', 'b3e59b54a', '0958071b5', 'd086fd85e', '3aa0689eb', 'd2c8f2916', 'fc791ebea', 'b639793f9', '944531331', 'd9e884466', 'c7201df85', '3ae0ef9f1', '0ef3dda96', '21cb526c2', '1e5e03a86', 'd9e131846', '5f57e7d4f', '8ad083b20', '4abed74f5', '8c8aa1d64', 'ac3e34eff', '19231be54', 'd804d7926', '803f6cece', 'd7fb439cc', 'ed8157b96', '1f2e3f148', '1c7f1ab58', '0249d8675', '144279ac1', '3afd0489b', 'ef1f6146b', 'fe77c71bd', 'bbc311f15', '9fbd66490', '4c6d8f959', '83f07ed50', '163b28322', 'fb1301ef6', '214f24d39', '2c4223dbd', 'f17881964', '3e6a88574', '145d17afb', '8584a02f4', '6c1a5aab7', '40994d768', '527a42dc2', 'bea839b58', 'e866d44ea', 'a148d86df', '310b1a988', '3e2b4aac9', '9a20c66da', '09f69436c', '78e45cd66', '3fe2d05f7', '5e881b059', '2119a6f87', 'd9025a066', '4c183f1ef', '292dea6ab', 'f53d92c1a', 'c0e4c4487', '7cb06ca3c', '99fffb9e9', '1f40b9ca8', 'b8cf041db', '9882f1fa0', 'cc8755307', '95a263224', 'eba84389c', '39981f199', '7322ea1c9', '907d87214', '75645dad3', '2ae2bd37c', 'd39b176b6', '329124d64', 'ae49fec17', 'ec93484e7', 'baf172f58', '989a51202', '435fd233e', 'b2c93e83d', '4d5fc69ae', 'b3f15d742', 'cfc8d0828', 'fc88d723d', 'a9b4474f4', 'e78ce8c35', '9d6fa150a', '0000ee65f', '00e9c15b8', 'f81cde28d', '76ef650e6', '437d8df71', 'b436c2568', '9a92bb693', 'fe0b55cd2', '70a040495', '0b17eaec7', 'ce528707a', '77ab97a87', '906c833b2', '782664588', 'e97824431', 'b7c276ed2', '7433a98da', '2d8a0cf5a', '576b27b37', 'b7d62cb4e', '0516fa0d8', '7cd1571c9', '17e0c4fa9', 'f4689e520', '556aa5d7a', '062cd9a70', '9c5ea36f8', '3fe8e9cba', '1ff467489', '82f75f00e', '27179d6e5', '8367b78fc', '28630a5c8', '26bf5ddd9', '4dcab4fc8']\n"
     ]
    }
   ],
   "source": [
    "Unique('nom_6')"
   ]
  },
  {
   "cell_type": "markdown",
   "metadata": {},
   "source": [
    "ok , we'll continue label encode them"
   ]
  },
  {
   "cell_type": "code",
   "execution_count": 29,
   "metadata": {
    "scrolled": true
   },
   "outputs": [],
   "source": [
    "for C in ['nom_5' , 'nom_6' , 'nom_7' , 'nom_8' , 'nom_9']: \n",
    "    enc  = LabelEncoder()\n",
    "    enc.fit(X[C])\n",
    "    X[C] = enc.transform(X[C])"
   ]
  },
  {
   "cell_type": "markdown",
   "metadata": {},
   "source": [
    "how it looks"
   ]
  },
  {
   "cell_type": "code",
   "execution_count": 30,
   "metadata": {
    "scrolled": true
   },
   "outputs": [
    {
     "data": {
      "text/html": [
       "<div>\n",
       "<style scoped>\n",
       "    .dataframe tbody tr th:only-of-type {\n",
       "        vertical-align: middle;\n",
       "    }\n",
       "\n",
       "    .dataframe tbody tr th {\n",
       "        vertical-align: top;\n",
       "    }\n",
       "\n",
       "    .dataframe thead th {\n",
       "        text-align: right;\n",
       "    }\n",
       "</style>\n",
       "<table border=\"1\" class=\"dataframe\">\n",
       "  <thead>\n",
       "    <tr style=\"text-align: right;\">\n",
       "      <th></th>\n",
       "      <th>bin_0</th>\n",
       "      <th>bin_1</th>\n",
       "      <th>bin_2</th>\n",
       "      <th>nom_0</th>\n",
       "      <th>nom_1</th>\n",
       "      <th>nom_2</th>\n",
       "      <th>nom_3</th>\n",
       "      <th>nom_4</th>\n",
       "      <th>nom_5</th>\n",
       "      <th>nom_6</th>\n",
       "      <th>...</th>\n",
       "      <th>ord_0</th>\n",
       "      <th>ord_1</th>\n",
       "      <th>ord_2</th>\n",
       "      <th>ord_3</th>\n",
       "      <th>ord_4</th>\n",
       "      <th>ord_5</th>\n",
       "      <th>day</th>\n",
       "      <th>month</th>\n",
       "      <th>bin_03</th>\n",
       "      <th>bin_04</th>\n",
       "    </tr>\n",
       "  </thead>\n",
       "  <tbody>\n",
       "    <tr>\n",
       "      <th>0</th>\n",
       "      <td>0</td>\n",
       "      <td>0</td>\n",
       "      <td>0</td>\n",
       "      <td>1</td>\n",
       "      <td>5</td>\n",
       "      <td>5</td>\n",
       "      <td>3</td>\n",
       "      <td>0</td>\n",
       "      <td>78</td>\n",
       "      <td>120</td>\n",
       "      <td>...</td>\n",
       "      <td>2</td>\n",
       "      <td>Grandmaster</td>\n",
       "      <td>Cold</td>\n",
       "      <td>h</td>\n",
       "      <td>D</td>\n",
       "      <td>kr</td>\n",
       "      <td>2</td>\n",
       "      <td>2</td>\n",
       "      <td>1</td>\n",
       "      <td>1</td>\n",
       "    </tr>\n",
       "    <tr>\n",
       "      <th>1</th>\n",
       "      <td>0</td>\n",
       "      <td>1</td>\n",
       "      <td>0</td>\n",
       "      <td>1</td>\n",
       "      <td>4</td>\n",
       "      <td>3</td>\n",
       "      <td>5</td>\n",
       "      <td>2</td>\n",
       "      <td>159</td>\n",
       "      <td>510</td>\n",
       "      <td>...</td>\n",
       "      <td>1</td>\n",
       "      <td>Grandmaster</td>\n",
       "      <td>Hot</td>\n",
       "      <td>a</td>\n",
       "      <td>A</td>\n",
       "      <td>bF</td>\n",
       "      <td>7</td>\n",
       "      <td>8</td>\n",
       "      <td>1</td>\n",
       "      <td>1</td>\n",
       "    </tr>\n",
       "    <tr>\n",
       "      <th>2</th>\n",
       "      <td>0</td>\n",
       "      <td>0</td>\n",
       "      <td>0</td>\n",
       "      <td>0</td>\n",
       "      <td>4</td>\n",
       "      <td>4</td>\n",
       "      <td>5</td>\n",
       "      <td>3</td>\n",
       "      <td>44</td>\n",
       "      <td>14</td>\n",
       "      <td>...</td>\n",
       "      <td>1</td>\n",
       "      <td>Expert</td>\n",
       "      <td>Lava Hot</td>\n",
       "      <td>h</td>\n",
       "      <td>R</td>\n",
       "      <td>Jc</td>\n",
       "      <td>7</td>\n",
       "      <td>2</td>\n",
       "      <td>0</td>\n",
       "      <td>1</td>\n",
       "    </tr>\n",
       "    <tr>\n",
       "      <th>3</th>\n",
       "      <td>0</td>\n",
       "      <td>1</td>\n",
       "      <td>0</td>\n",
       "      <td>2</td>\n",
       "      <td>4</td>\n",
       "      <td>5</td>\n",
       "      <td>0</td>\n",
       "      <td>1</td>\n",
       "      <td>209</td>\n",
       "      <td>165</td>\n",
       "      <td>...</td>\n",
       "      <td>1</td>\n",
       "      <td>Grandmaster</td>\n",
       "      <td>Boiling Hot</td>\n",
       "      <td>i</td>\n",
       "      <td>D</td>\n",
       "      <td>kW</td>\n",
       "      <td>2</td>\n",
       "      <td>1</td>\n",
       "      <td>0</td>\n",
       "      <td>1</td>\n",
       "    </tr>\n",
       "    <tr>\n",
       "      <th>4</th>\n",
       "      <td>0</td>\n",
       "      <td>0</td>\n",
       "      <td>0</td>\n",
       "      <td>2</td>\n",
       "      <td>4</td>\n",
       "      <td>4</td>\n",
       "      <td>0</td>\n",
       "      <td>1</td>\n",
       "      <td>90</td>\n",
       "      <td>61</td>\n",
       "      <td>...</td>\n",
       "      <td>1</td>\n",
       "      <td>Grandmaster</td>\n",
       "      <td>Freezing</td>\n",
       "      <td>a</td>\n",
       "      <td>R</td>\n",
       "      <td>qP</td>\n",
       "      <td>7</td>\n",
       "      <td>8</td>\n",
       "      <td>0</td>\n",
       "      <td>0</td>\n",
       "    </tr>\n",
       "  </tbody>\n",
       "</table>\n",
       "<p>5 rows × 23 columns</p>\n",
       "</div>"
      ],
      "text/plain": [
       "   bin_0  bin_1  bin_2  nom_0  nom_1  nom_2  nom_3  nom_4  nom_5  nom_6  ...  \\\n",
       "0      0      0      0      1      5      5      3      0     78    120  ...   \n",
       "1      0      1      0      1      4      3      5      2    159    510  ...   \n",
       "2      0      0      0      0      4      4      5      3     44     14  ...   \n",
       "3      0      1      0      2      4      5      0      1    209    165  ...   \n",
       "4      0      0      0      2      4      4      0      1     90     61  ...   \n",
       "\n",
       "   ord_0        ord_1        ord_2  ord_3 ord_4 ord_5 day month bin_03  bin_04  \n",
       "0      2  Grandmaster         Cold      h     D    kr   2     2      1       1  \n",
       "1      1  Grandmaster          Hot      a     A    bF   7     8      1       1  \n",
       "2      1       Expert     Lava Hot      h     R    Jc   7     2      0       1  \n",
       "3      1  Grandmaster  Boiling Hot      i     D    kW   2     1      0       1  \n",
       "4      1  Grandmaster     Freezing      a     R    qP   7     8      0       0  \n",
       "\n",
       "[5 rows x 23 columns]"
      ]
     },
     "execution_count": 30,
     "metadata": {},
     "output_type": "execute_result"
    }
   ],
   "source": [
    "data.head()"
   ]
  },
  {
   "cell_type": "markdown",
   "metadata": {},
   "source": [
    "and it might not be helpful to plot features with very high number of unique values \n",
    "\n",
    "______\n",
    "\n",
    "now to plot other features "
   ]
  },
  {
   "cell_type": "code",
   "execution_count": 31,
   "metadata": {
    "scrolled": true
   },
   "outputs": [
    {
     "data": {
      "image/png": "[encoded data removed]",
      "text/plain": [
       "<Figure size 432x288 with 1 Axes>"
      ]
     },
     "metadata": {
      "needs_background": "light"
     },
     "output_type": "display_data"
    }
   ],
   "source": [
    "CPlot('ord_0')"
   ]
  },
  {
   "cell_type": "code",
   "execution_count": 32,
   "metadata": {
    "scrolled": true
   },
   "outputs": [
    {
     "data": {
      "image/png": "[encoded data removed]",
      "text/plain": [
       "<Figure size 432x288 with 1 Axes>"
      ]
     },
     "metadata": {
      "needs_background": "light"
     },
     "output_type": "display_data"
    }
   ],
   "source": [
    "CPlot('ord_1')"
   ]
  },
  {
   "cell_type": "code",
   "execution_count": 33,
   "metadata": {
    "scrolled": true
   },
   "outputs": [
    {
     "data": {
      "image/png": "[encoded data removed]",
      "text/plain": [
       "<Figure size 432x288 with 1 Axes>"
      ]
     },
     "metadata": {
      "needs_background": "light"
     },
     "output_type": "display_data"
    }
   ],
   "source": [
    "CPlot('ord_2')"
   ]
  },
  {
   "cell_type": "code",
   "execution_count": 34,
   "metadata": {
    "scrolled": true
   },
   "outputs": [
    {
     "data": {
      "image/png": "[encoded data removed]",
      "text/plain": [
       "<Figure size 432x288 with 1 Axes>"
      ]
     },
     "metadata": {
      "needs_background": "light"
     },
     "output_type": "display_data"
    }
   ],
   "source": [
    "CPlot('ord_3')"
   ]
  },
  {
   "cell_type": "code",
   "execution_count": 35,
   "metadata": {
    "scrolled": true
   },
   "outputs": [
    {
     "data": {
      "image/png": "[encoded data removed]",
      "text/plain": [
       "<Figure size 432x288 with 1 Axes>"
      ]
     },
     "metadata": {
      "needs_background": "light"
     },
     "output_type": "display_data"
    }
   ],
   "source": [
    "CPlot('ord_4')"
   ]
  },
  {
   "cell_type": "code",
   "execution_count": 36,
   "metadata": {
    "scrolled": true
   },
   "outputs": [
    {
     "data": {
      "image/png": "[encoded data removed]",
      "text/plain": [
       "<Figure size 432x288 with 1 Axes>"
      ]
     },
     "metadata": {
      "needs_background": "light"
     },
     "output_type": "display_data"
    }
   ],
   "source": [
    "CPlot('ord_5')"
   ]
  },
  {
   "cell_type": "markdown",
   "metadata": {},
   "source": [
    " again to label encode them "
   ]
  },
  {
   "cell_type": "code",
   "execution_count": 37,
   "metadata": {
    "scrolled": true
   },
   "outputs": [
    {
     "data": {
      "text/html": [
       "<div>\n",
       "<style scoped>\n",
       "    .dataframe tbody tr th:only-of-type {\n",
       "        vertical-align: middle;\n",
       "    }\n",
       "\n",
       "    .dataframe tbody tr th {\n",
       "        vertical-align: top;\n",
       "    }\n",
       "\n",
       "    .dataframe thead th {\n",
       "        text-align: right;\n",
       "    }\n",
       "</style>\n",
       "<table border=\"1\" class=\"dataframe\">\n",
       "  <thead>\n",
       "    <tr style=\"text-align: right;\">\n",
       "      <th></th>\n",
       "      <th>bin_0</th>\n",
       "      <th>bin_1</th>\n",
       "      <th>bin_2</th>\n",
       "      <th>nom_0</th>\n",
       "      <th>nom_1</th>\n",
       "      <th>nom_2</th>\n",
       "      <th>nom_3</th>\n",
       "      <th>nom_4</th>\n",
       "      <th>nom_5</th>\n",
       "      <th>nom_6</th>\n",
       "      <th>...</th>\n",
       "      <th>ord_0</th>\n",
       "      <th>ord_1</th>\n",
       "      <th>ord_2</th>\n",
       "      <th>ord_3</th>\n",
       "      <th>ord_4</th>\n",
       "      <th>ord_5</th>\n",
       "      <th>day</th>\n",
       "      <th>month</th>\n",
       "      <th>bin_03</th>\n",
       "      <th>bin_04</th>\n",
       "    </tr>\n",
       "  </thead>\n",
       "  <tbody>\n",
       "    <tr>\n",
       "      <th>0</th>\n",
       "      <td>0</td>\n",
       "      <td>0</td>\n",
       "      <td>0</td>\n",
       "      <td>1</td>\n",
       "      <td>5</td>\n",
       "      <td>5</td>\n",
       "      <td>3</td>\n",
       "      <td>0</td>\n",
       "      <td>78</td>\n",
       "      <td>120</td>\n",
       "      <td>...</td>\n",
       "      <td>1</td>\n",
       "      <td>2</td>\n",
       "      <td>1</td>\n",
       "      <td>7</td>\n",
       "      <td>3</td>\n",
       "      <td>136</td>\n",
       "      <td>2</td>\n",
       "      <td>2</td>\n",
       "      <td>1</td>\n",
       "      <td>1</td>\n",
       "    </tr>\n",
       "    <tr>\n",
       "      <th>1</th>\n",
       "      <td>0</td>\n",
       "      <td>1</td>\n",
       "      <td>0</td>\n",
       "      <td>1</td>\n",
       "      <td>4</td>\n",
       "      <td>3</td>\n",
       "      <td>5</td>\n",
       "      <td>2</td>\n",
       "      <td>159</td>\n",
       "      <td>510</td>\n",
       "      <td>...</td>\n",
       "      <td>0</td>\n",
       "      <td>2</td>\n",
       "      <td>3</td>\n",
       "      <td>0</td>\n",
       "      <td>0</td>\n",
       "      <td>93</td>\n",
       "      <td>7</td>\n",
       "      <td>8</td>\n",
       "      <td>1</td>\n",
       "      <td>1</td>\n",
       "    </tr>\n",
       "    <tr>\n",
       "      <th>2</th>\n",
       "      <td>0</td>\n",
       "      <td>0</td>\n",
       "      <td>0</td>\n",
       "      <td>0</td>\n",
       "      <td>4</td>\n",
       "      <td>4</td>\n",
       "      <td>5</td>\n",
       "      <td>3</td>\n",
       "      <td>44</td>\n",
       "      <td>14</td>\n",
       "      <td>...</td>\n",
       "      <td>0</td>\n",
       "      <td>1</td>\n",
       "      <td>4</td>\n",
       "      <td>7</td>\n",
       "      <td>17</td>\n",
       "      <td>31</td>\n",
       "      <td>7</td>\n",
       "      <td>2</td>\n",
       "      <td>0</td>\n",
       "      <td>1</td>\n",
       "    </tr>\n",
       "    <tr>\n",
       "      <th>3</th>\n",
       "      <td>0</td>\n",
       "      <td>1</td>\n",
       "      <td>0</td>\n",
       "      <td>2</td>\n",
       "      <td>4</td>\n",
       "      <td>5</td>\n",
       "      <td>0</td>\n",
       "      <td>1</td>\n",
       "      <td>209</td>\n",
       "      <td>165</td>\n",
       "      <td>...</td>\n",
       "      <td>0</td>\n",
       "      <td>2</td>\n",
       "      <td>0</td>\n",
       "      <td>8</td>\n",
       "      <td>3</td>\n",
       "      <td>134</td>\n",
       "      <td>2</td>\n",
       "      <td>1</td>\n",
       "      <td>0</td>\n",
       "      <td>1</td>\n",
       "    </tr>\n",
       "    <tr>\n",
       "      <th>4</th>\n",
       "      <td>0</td>\n",
       "      <td>0</td>\n",
       "      <td>0</td>\n",
       "      <td>2</td>\n",
       "      <td>4</td>\n",
       "      <td>4</td>\n",
       "      <td>0</td>\n",
       "      <td>1</td>\n",
       "      <td>90</td>\n",
       "      <td>61</td>\n",
       "      <td>...</td>\n",
       "      <td>0</td>\n",
       "      <td>2</td>\n",
       "      <td>2</td>\n",
       "      <td>0</td>\n",
       "      <td>17</td>\n",
       "      <td>158</td>\n",
       "      <td>7</td>\n",
       "      <td>8</td>\n",
       "      <td>0</td>\n",
       "      <td>0</td>\n",
       "    </tr>\n",
       "  </tbody>\n",
       "</table>\n",
       "<p>5 rows × 23 columns</p>\n",
       "</div>"
      ],
      "text/plain": [
       "   bin_0  bin_1  bin_2  nom_0  nom_1  nom_2  nom_3  nom_4  nom_5  nom_6  ...  \\\n",
       "0      0      0      0      1      5      5      3      0     78    120  ...   \n",
       "1      0      1      0      1      4      3      5      2    159    510  ...   \n",
       "2      0      0      0      0      4      4      5      3     44     14  ...   \n",
       "3      0      1      0      2      4      5      0      1    209    165  ...   \n",
       "4      0      0      0      2      4      4      0      1     90     61  ...   \n",
       "\n",
       "   ord_0  ord_1  ord_2  ord_3  ord_4  ord_5  day  month  bin_03  bin_04  \n",
       "0      1      2      1      7      3    136    2      2       1       1  \n",
       "1      0      2      3      0      0     93    7      8       1       1  \n",
       "2      0      1      4      7     17     31    7      2       0       1  \n",
       "3      0      2      0      8      3    134    2      1       0       1  \n",
       "4      0      2      2      0     17    158    7      8       0       0  \n",
       "\n",
       "[5 rows x 23 columns]"
      ]
     },
     "execution_count": 37,
     "metadata": {},
     "output_type": "execute_result"
    }
   ],
   "source": [
    "for C in ['ord_0' , 'ord_1' , 'ord_2' , 'ord_3' , 'ord_4' , 'ord_5']: \n",
    "    enc  = LabelEncoder()\n",
    "    enc.fit(X[C])\n",
    "    X[C] = enc.transform(X[C])\n",
    "\n",
    "data.head()"
   ]
  },
  {
   "cell_type": "markdown",
   "metadata": {},
   "source": [
    "so now we are ready for Build the model & train the data \n",
    "\n",
    "______\n",
    "\n",
    "# Build the Model\n",
    "\n",
    "first to prepare the data for training by defining trainging & testing data again \n"
   ]
  },
  {
   "cell_type": "code",
   "execution_count": 38,
   "metadata": {
    "scrolled": true
   },
   "outputs": [
    {
     "data": {
      "text/plain": [
       "((300000, 23), (200000, 23))"
      ]
     },
     "execution_count": 38,
     "metadata": {},
     "output_type": "execute_result"
    }
   ],
   "source": [
    "train_data = data.iloc[:train.shape[0],:]\n",
    "test_data=  data.iloc[train.shape[0]:,:]\n",
    "train_data.shape , test_data.shape"
   ]
  },
  {
   "cell_type": "markdown",
   "metadata": {},
   "source": [
    "now to define X & y "
   ]
  },
  {
   "cell_type": "code",
   "execution_count": 39,
   "metadata": {
    "scrolled": true
   },
   "outputs": [
    {
     "data": {
      "text/plain": [
       "((300000, 23), (300000,))"
      ]
     },
     "execution_count": 39,
     "metadata": {},
     "output_type": "execute_result"
    }
   ],
   "source": [
    "X = train_data\n",
    "y = train['target']\n",
    "X.shape , y.shape"
   ]
  },
  {
   "cell_type": "markdown",
   "metadata": {},
   "source": [
    "let's apply minmaxscalerfrom sklearn , to make the model faster "
   ]
  },
  {
   "cell_type": "code",
   "execution_count": 40,
   "metadata": {
    "scrolled": true
   },
   "outputs": [],
   "source": [
    "scaler = MinMaxScaler(copy=True, feature_range=(0, 1))\n",
    "X = scaler.fit_transform(X)"
   ]
  },
  {
   "cell_type": "markdown",
   "metadata": {},
   "source": [
    "then to split it into training & testing data"
   ]
  },
  {
   "cell_type": "code",
   "execution_count": 41,
   "metadata": {
    "scrolled": true
   },
   "outputs": [
    {
     "name": "stdout",
     "output_type": "stream",
     "text": [
      "X_train shape is  (240000, 23)\n",
      "X_test shape is  (60000, 23)\n",
      "y_train shape is  (240000,)\n",
      "y_test shape is  (60000,)\n"
     ]
    }
   ],
   "source": [
    "X_train, X_test, y_train, y_test = train_test_split(X, y, test_size=0.20, random_state=44, shuffle =True)\n",
    "\n",
    "print('X_train shape is ' , X_train.shape)\n",
    "print('X_test shape is ' , X_test.shape)\n",
    "print('y_train shape is ' , y_train.shape)\n",
    "print('y_test shape is ' , y_test.shape)"
   ]
  },
  {
   "cell_type": "markdown",
   "metadata": {},
   "source": [
    "now it's time to apply lgb classification model , with round numbers = 25K & shown parameters"
   ]
  },
  {
   "cell_type": "code",
   "execution_count": 42,
   "metadata": {
    "scrolled": true
   },
   "outputs": [
    {
     "name": "stdout",
     "output_type": "stream",
     "text": [
      "Training until validation scores don't improve for 600 rounds.\n",
      "[50]\ttraining's auc: 0.730515\tvalid_1's auc: 0.720815\n",
      "[100]\ttraining's auc: 0.732871\tvalid_1's auc: 0.72291\n",
      "[150]\ttraining's auc: 0.733857\tvalid_1's auc: 0.723761\n",
      "[200]\ttraining's auc: 0.734739\tvalid_1's auc: 0.724624\n",
      "[250]\ttraining's auc: 0.735546\tvalid_1's auc: 0.725326\n",
      "[300]\ttraining's auc: 0.736391\tvalid_1's auc: 0.725986\n",
      "[350]\ttraining's auc: 0.737663\tvalid_1's auc: 0.727058\n",
      "[400]\ttraining's auc: 0.73858\tvalid_1's auc: 0.727808\n",
      "[450]\ttraining's auc: 0.73981\tvalid_1's auc: 0.728873\n",
      "[500]\ttraining's auc: 0.74099\tvalid_1's auc: 0.729879\n",
      "[550]\ttraining's auc: 0.742309\tvalid_1's auc: 0.731003\n",
      "[600]\ttraining's auc: 0.743358\tvalid_1's auc: 0.731935\n",
      "[650]\ttraining's auc: 0.744532\tvalid_1's auc: 0.732985\n",
      "[700]\ttraining's auc: 0.745548\tvalid_1's auc: 0.733832\n",
      "[750]\ttraining's auc: 0.74659\tvalid_1's auc: 0.734748\n",
      "[800]\ttraining's auc: 0.747515\tvalid_1's auc: 0.735549\n",
      "[850]\ttraining's auc: 0.748496\tvalid_1's auc: 0.736407\n",
      "[900]\ttraining's auc: 0.749368\tvalid_1's auc: 0.737132\n",
      "[950]\ttraining's auc: 0.750164\tvalid_1's auc: 0.737766\n",
      "[1000]\ttraining's auc: 0.751073\tvalid_1's auc: 0.738537\n",
      "[1050]\ttraining's auc: 0.751861\tvalid_1's auc: 0.739157\n",
      "[1100]\ttraining's auc: 0.752623\tvalid_1's auc: 0.739761\n",
      "[1150]\ttraining's auc: 0.753392\tvalid_1's auc: 0.740369\n",
      "[1200]\ttraining's auc: 0.754139\tvalid_1's auc: 0.740951\n",
      "[1250]\ttraining's auc: 0.754901\tvalid_1's auc: 0.741525\n",
      "[1300]\ttraining's auc: 0.755641\tvalid_1's auc: 0.742101\n",
      "[1350]\ttraining's auc: 0.756352\tvalid_1's auc: 0.742631\n",
      "[1400]\ttraining's auc: 0.757066\tvalid_1's auc: 0.74318\n",
      "[1450]\ttraining's auc: 0.757742\tvalid_1's auc: 0.743708\n",
      "[1500]\ttraining's auc: 0.75838\tvalid_1's auc: 0.744191\n",
      "[1550]\ttraining's auc: 0.759\tvalid_1's auc: 0.744639\n",
      "[1600]\ttraining's auc: 0.759607\tvalid_1's auc: 0.745084\n",
      "[1650]\ttraining's auc: 0.760212\tvalid_1's auc: 0.745518\n",
      "[1700]\ttraining's auc: 0.760795\tvalid_1's auc: 0.745929\n",
      "[1750]\ttraining's auc: 0.76138\tvalid_1's auc: 0.746335\n",
      "[1800]\ttraining's auc: 0.761951\tvalid_1's auc: 0.746709\n",
      "[1850]\ttraining's auc: 0.762524\tvalid_1's auc: 0.747104\n",
      "[1900]\ttraining's auc: 0.763098\tvalid_1's auc: 0.747468\n",
      "[1950]\ttraining's auc: 0.763655\tvalid_1's auc: 0.747838\n",
      "[2000]\ttraining's auc: 0.7642\tvalid_1's auc: 0.748191\n",
      "[2050]\ttraining's auc: 0.764764\tvalid_1's auc: 0.748564\n",
      "[2100]\ttraining's auc: 0.765333\tvalid_1's auc: 0.748923\n",
      "[2150]\ttraining's auc: 0.76587\tvalid_1's auc: 0.749256\n",
      "[2200]\ttraining's auc: 0.766422\tvalid_1's auc: 0.74961\n",
      "[2250]\ttraining's auc: 0.766962\tvalid_1's auc: 0.749954\n",
      "[2300]\ttraining's auc: 0.767508\tvalid_1's auc: 0.750298\n",
      "[2350]\ttraining's auc: 0.768015\tvalid_1's auc: 0.750628\n",
      "[2400]\ttraining's auc: 0.768529\tvalid_1's auc: 0.750948\n",
      "[2450]\ttraining's auc: 0.769043\tvalid_1's auc: 0.751269\n",
      "[2500]\ttraining's auc: 0.769565\tvalid_1's auc: 0.751597\n",
      "[2550]\ttraining's auc: 0.770077\tvalid_1's auc: 0.751909\n",
      "[2600]\ttraining's auc: 0.770586\tvalid_1's auc: 0.752229\n",
      "[2650]\ttraining's auc: 0.771077\tvalid_1's auc: 0.752526\n",
      "[2700]\ttraining's auc: 0.771566\tvalid_1's auc: 0.752819\n",
      "[2750]\ttraining's auc: 0.772093\tvalid_1's auc: 0.753154\n",
      "[2800]\ttraining's auc: 0.772566\tvalid_1's auc: 0.753437\n",
      "[2850]\ttraining's auc: 0.773036\tvalid_1's auc: 0.753728\n",
      "[2900]\ttraining's auc: 0.773486\tvalid_1's auc: 0.753987\n",
      "[2950]\ttraining's auc: 0.773976\tvalid_1's auc: 0.754285\n",
      "[3000]\ttraining's auc: 0.774435\tvalid_1's auc: 0.754562\n",
      "[3050]\ttraining's auc: 0.774877\tvalid_1's auc: 0.754817\n",
      "[3100]\ttraining's auc: 0.775308\tvalid_1's auc: 0.755069\n",
      "[3150]\ttraining's auc: 0.775732\tvalid_1's auc: 0.755308\n",
      "[3200]\ttraining's auc: 0.776161\tvalid_1's auc: 0.755562\n",
      "[3250]\ttraining's auc: 0.77657\tvalid_1's auc: 0.755789\n",
      "[3300]\ttraining's auc: 0.776974\tvalid_1's auc: 0.756009\n",
      "[3350]\ttraining's auc: 0.777405\tvalid_1's auc: 0.756258\n",
      "[3400]\ttraining's auc: 0.777802\tvalid_1's auc: 0.756475\n",
      "[3450]\ttraining's auc: 0.778197\tvalid_1's auc: 0.756689\n",
      "[3500]\ttraining's auc: 0.77859\tvalid_1's auc: 0.756894\n",
      "[3550]\ttraining's auc: 0.778954\tvalid_1's auc: 0.757076\n",
      "[3600]\ttraining's auc: 0.77933\tvalid_1's auc: 0.757288\n",
      "[3650]\ttraining's auc: 0.779703\tvalid_1's auc: 0.757484\n",
      "[3700]\ttraining's auc: 0.780076\tvalid_1's auc: 0.757675\n",
      "[3750]\ttraining's auc: 0.78043\tvalid_1's auc: 0.757853\n",
      "[3800]\ttraining's auc: 0.780789\tvalid_1's auc: 0.75804\n",
      "[3850]\ttraining's auc: 0.781145\tvalid_1's auc: 0.758217\n",
      "[3900]\ttraining's auc: 0.781478\tvalid_1's auc: 0.758385\n",
      "[3950]\ttraining's auc: 0.781829\tvalid_1's auc: 0.758568\n",
      "[4000]\ttraining's auc: 0.782174\tvalid_1's auc: 0.758742\n",
      "[4050]\ttraining's auc: 0.78251\tvalid_1's auc: 0.758905\n",
      "[4100]\ttraining's auc: 0.782847\tvalid_1's auc: 0.759065\n",
      "[4150]\ttraining's auc: 0.783185\tvalid_1's auc: 0.759237\n",
      "[4200]\ttraining's auc: 0.783518\tvalid_1's auc: 0.759392\n",
      "[4250]\ttraining's auc: 0.783847\tvalid_1's auc: 0.759554\n",
      "[4300]\ttraining's auc: 0.784182\tvalid_1's auc: 0.759718\n",
      "[4350]\ttraining's auc: 0.784498\tvalid_1's auc: 0.759859\n",
      "[4400]\ttraining's auc: 0.784813\tvalid_1's auc: 0.760004\n",
      "[4450]\ttraining's auc: 0.78513\tvalid_1's auc: 0.760147\n",
      "[4500]\ttraining's auc: 0.785448\tvalid_1's auc: 0.760302\n",
      "[4550]\ttraining's auc: 0.785765\tvalid_1's auc: 0.760451\n",
      "[4600]\ttraining's auc: 0.786088\tvalid_1's auc: 0.76061\n",
      "[4650]\ttraining's auc: 0.786394\tvalid_1's auc: 0.760742\n",
      "[4700]\ttraining's auc: 0.786714\tvalid_1's auc: 0.760886\n",
      "[4750]\ttraining's auc: 0.78703\tvalid_1's auc: 0.761032\n",
      "[4800]\ttraining's auc: 0.787333\tvalid_1's auc: 0.761169\n",
      "[4850]\ttraining's auc: 0.787645\tvalid_1's auc: 0.761307\n",
      "[4900]\ttraining's auc: 0.78794\tvalid_1's auc: 0.76143\n",
      "[4950]\ttraining's auc: 0.788223\tvalid_1's auc: 0.761553\n",
      "[5000]\ttraining's auc: 0.788517\tvalid_1's auc: 0.761677\n",
      "[5050]\ttraining's auc: 0.788825\tvalid_1's auc: 0.761812\n",
      "[5100]\ttraining's auc: 0.789117\tvalid_1's auc: 0.761933\n",
      "[5150]\ttraining's auc: 0.789406\tvalid_1's auc: 0.762049\n",
      "[5200]\ttraining's auc: 0.789714\tvalid_1's auc: 0.762178\n",
      "[5250]\ttraining's auc: 0.790016\tvalid_1's auc: 0.762309\n",
      "[5300]\ttraining's auc: 0.790298\tvalid_1's auc: 0.762415\n",
      "[5350]\ttraining's auc: 0.790598\tvalid_1's auc: 0.762549\n",
      "[5400]\ttraining's auc: 0.7909\tvalid_1's auc: 0.762673\n",
      "[5450]\ttraining's auc: 0.791183\tvalid_1's auc: 0.762793\n",
      "[5500]\ttraining's auc: 0.791475\tvalid_1's auc: 0.762917\n",
      "[5550]\ttraining's auc: 0.791761\tvalid_1's auc: 0.76303\n",
      "[5600]\ttraining's auc: 0.792041\tvalid_1's auc: 0.763136\n",
      "[5650]\ttraining's auc: 0.792325\tvalid_1's auc: 0.763252\n",
      "[5700]\ttraining's auc: 0.792607\tvalid_1's auc: 0.763364\n",
      "[5750]\ttraining's auc: 0.792883\tvalid_1's auc: 0.763467\n",
      "[5800]\ttraining's auc: 0.793168\tvalid_1's auc: 0.763587\n",
      "[5850]\ttraining's auc: 0.793436\tvalid_1's auc: 0.763688\n",
      "[5900]\ttraining's auc: 0.793702\tvalid_1's auc: 0.763789\n",
      "[5950]\ttraining's auc: 0.793985\tvalid_1's auc: 0.763898\n",
      "[6000]\ttraining's auc: 0.794244\tvalid_1's auc: 0.763984\n",
      "[6050]\ttraining's auc: 0.794508\tvalid_1's auc: 0.764082\n",
      "[6100]\ttraining's auc: 0.794777\tvalid_1's auc: 0.764184\n",
      "[6150]\ttraining's auc: 0.795056\tvalid_1's auc: 0.764293\n",
      "[6200]\ttraining's auc: 0.795325\tvalid_1's auc: 0.764396\n",
      "[6250]\ttraining's auc: 0.795587\tvalid_1's auc: 0.764488\n",
      "[6300]\ttraining's auc: 0.795857\tvalid_1's auc: 0.764592\n",
      "[6350]\ttraining's auc: 0.796118\tvalid_1's auc: 0.76468\n",
      "[6400]\ttraining's auc: 0.796394\tvalid_1's auc: 0.764788\n",
      "[6450]\ttraining's auc: 0.796666\tvalid_1's auc: 0.764891\n",
      "[6500]\ttraining's auc: 0.796924\tvalid_1's auc: 0.764981\n",
      "[6550]\ttraining's auc: 0.797183\tvalid_1's auc: 0.765075\n",
      "[6600]\ttraining's auc: 0.797461\tvalid_1's auc: 0.765188\n",
      "[6650]\ttraining's auc: 0.797715\tvalid_1's auc: 0.765275\n",
      "[6700]\ttraining's auc: 0.79797\tvalid_1's auc: 0.765365\n",
      "[6750]\ttraining's auc: 0.798222\tvalid_1's auc: 0.765453\n",
      "[6800]\ttraining's auc: 0.798478\tvalid_1's auc: 0.765539\n",
      "[6850]\ttraining's auc: 0.798743\tvalid_1's auc: 0.765633\n",
      "[6900]\ttraining's auc: 0.798997\tvalid_1's auc: 0.765718\n",
      "[6950]\ttraining's auc: 0.799247\tvalid_1's auc: 0.7658\n",
      "[7000]\ttraining's auc: 0.799486\tvalid_1's auc: 0.765875\n",
      "[7050]\ttraining's auc: 0.799738\tvalid_1's auc: 0.765955\n",
      "[7100]\ttraining's auc: 0.799982\tvalid_1's auc: 0.766032\n",
      "[7150]\ttraining's auc: 0.800228\tvalid_1's auc: 0.766108\n",
      "[7200]\ttraining's auc: 0.800476\tvalid_1's auc: 0.766186\n",
      "[7250]\ttraining's auc: 0.80073\tvalid_1's auc: 0.76628\n",
      "[7300]\ttraining's auc: 0.800974\tvalid_1's auc: 0.766355\n",
      "[7350]\ttraining's auc: 0.801224\tvalid_1's auc: 0.766438\n",
      "[7400]\ttraining's auc: 0.801473\tvalid_1's auc: 0.766524\n",
      "[7450]\ttraining's auc: 0.80171\tvalid_1's auc: 0.766599\n",
      "[7500]\ttraining's auc: 0.801949\tvalid_1's auc: 0.766675\n",
      "[7550]\ttraining's auc: 0.80219\tvalid_1's auc: 0.766745\n",
      "[7600]\ttraining's auc: 0.80242\tvalid_1's auc: 0.766811\n",
      "[7650]\ttraining's auc: 0.802643\tvalid_1's auc: 0.766864\n",
      "[7700]\ttraining's auc: 0.802878\tvalid_1's auc: 0.766938\n",
      "[7750]\ttraining's auc: 0.803124\tvalid_1's auc: 0.767018\n",
      "[7800]\ttraining's auc: 0.803355\tvalid_1's auc: 0.767081\n",
      "[7850]\ttraining's auc: 0.803597\tvalid_1's auc: 0.767157\n",
      "[7900]\ttraining's auc: 0.803836\tvalid_1's auc: 0.767228\n",
      "[7950]\ttraining's auc: 0.804058\tvalid_1's auc: 0.767282\n",
      "[8000]\ttraining's auc: 0.804292\tvalid_1's auc: 0.76735\n",
      "[8050]\ttraining's auc: 0.804526\tvalid_1's auc: 0.767421\n",
      "[8100]\ttraining's auc: 0.80476\tvalid_1's auc: 0.767485\n",
      "[8150]\ttraining's auc: 0.804999\tvalid_1's auc: 0.767562\n",
      "[8200]\ttraining's auc: 0.805221\tvalid_1's auc: 0.767618\n",
      "[8250]\ttraining's auc: 0.805464\tvalid_1's auc: 0.767691\n",
      "[8300]\ttraining's auc: 0.8057\tvalid_1's auc: 0.767765\n",
      "[8350]\ttraining's auc: 0.805932\tvalid_1's auc: 0.767834\n",
      "[8400]\ttraining's auc: 0.806164\tvalid_1's auc: 0.767901\n",
      "[8450]\ttraining's auc: 0.80639\tvalid_1's auc: 0.767965\n",
      "[8500]\ttraining's auc: 0.80662\tvalid_1's auc: 0.768033\n",
      "[8550]\ttraining's auc: 0.806845\tvalid_1's auc: 0.768096\n",
      "[8600]\ttraining's auc: 0.807068\tvalid_1's auc: 0.768158\n",
      "[8650]\ttraining's auc: 0.807316\tvalid_1's auc: 0.768243\n",
      "[8700]\ttraining's auc: 0.807533\tvalid_1's auc: 0.768293\n",
      "[8750]\ttraining's auc: 0.807753\tvalid_1's auc: 0.768353\n",
      "[8800]\ttraining's auc: 0.807974\tvalid_1's auc: 0.768413\n",
      "[8850]\ttraining's auc: 0.808197\tvalid_1's auc: 0.768467\n",
      "[8900]\ttraining's auc: 0.80841\tvalid_1's auc: 0.768515\n",
      "[8950]\ttraining's auc: 0.808632\tvalid_1's auc: 0.768573\n",
      "[9000]\ttraining's auc: 0.808851\tvalid_1's auc: 0.768635\n",
      "[9050]\ttraining's auc: 0.809079\tvalid_1's auc: 0.768699\n",
      "[9100]\ttraining's auc: 0.809293\tvalid_1's auc: 0.768754\n",
      "[9150]\ttraining's auc: 0.809513\tvalid_1's auc: 0.76881\n",
      "[9200]\ttraining's auc: 0.809743\tvalid_1's auc: 0.768878\n",
      "[9250]\ttraining's auc: 0.80997\tvalid_1's auc: 0.768945\n",
      "[9300]\ttraining's auc: 0.810193\tvalid_1's auc: 0.769011\n",
      "[9350]\ttraining's auc: 0.810404\tvalid_1's auc: 0.769057\n",
      "[9400]\ttraining's auc: 0.810622\tvalid_1's auc: 0.769107\n",
      "[9450]\ttraining's auc: 0.810832\tvalid_1's auc: 0.769152\n",
      "[9500]\ttraining's auc: 0.811049\tvalid_1's auc: 0.769201\n",
      "[9550]\ttraining's auc: 0.811259\tvalid_1's auc: 0.769254\n",
      "[9600]\ttraining's auc: 0.811483\tvalid_1's auc: 0.769321\n",
      "[9650]\ttraining's auc: 0.811693\tvalid_1's auc: 0.769367\n",
      "[9700]\ttraining's auc: 0.811905\tvalid_1's auc: 0.769415\n",
      "[9750]\ttraining's auc: 0.812123\tvalid_1's auc: 0.769479\n",
      "[9800]\ttraining's auc: 0.812339\tvalid_1's auc: 0.769532\n",
      "[9850]\ttraining's auc: 0.812555\tvalid_1's auc: 0.769587\n",
      "[9900]\ttraining's auc: 0.812759\tvalid_1's auc: 0.769633\n",
      "[9950]\ttraining's auc: 0.812962\tvalid_1's auc: 0.769675\n",
      "[10000]\ttraining's auc: 0.813165\tvalid_1's auc: 0.769716\n",
      "[10050]\ttraining's auc: 0.813367\tvalid_1's auc: 0.769757\n",
      "[10100]\ttraining's auc: 0.813573\tvalid_1's auc: 0.769805\n",
      "[10150]\ttraining's auc: 0.813781\tvalid_1's auc: 0.769857\n",
      "[10200]\ttraining's auc: 0.813979\tvalid_1's auc: 0.769897\n",
      "[10250]\ttraining's auc: 0.814183\tvalid_1's auc: 0.769939\n",
      "[10300]\ttraining's auc: 0.814398\tvalid_1's auc: 0.769998\n",
      "[10350]\ttraining's auc: 0.814605\tvalid_1's auc: 0.770047\n",
      "[10400]\ttraining's auc: 0.814811\tvalid_1's auc: 0.770092\n",
      "[10450]\ttraining's auc: 0.815012\tvalid_1's auc: 0.770136\n",
      "[10500]\ttraining's auc: 0.815224\tvalid_1's auc: 0.770184\n",
      "[10550]\ttraining's auc: 0.815434\tvalid_1's auc: 0.770234\n",
      "[10600]\ttraining's auc: 0.815638\tvalid_1's auc: 0.770277\n",
      "[10650]\ttraining's auc: 0.815837\tvalid_1's auc: 0.770323\n",
      "[10700]\ttraining's auc: 0.816039\tvalid_1's auc: 0.770369\n",
      "[10750]\ttraining's auc: 0.816246\tvalid_1's auc: 0.770409\n",
      "[10800]\ttraining's auc: 0.81645\tvalid_1's auc: 0.770455\n",
      "[10850]\ttraining's auc: 0.816652\tvalid_1's auc: 0.770492\n",
      "[10900]\ttraining's auc: 0.816852\tvalid_1's auc: 0.770533\n",
      "[10950]\ttraining's auc: 0.817052\tvalid_1's auc: 0.770577\n",
      "[11000]\ttraining's auc: 0.817258\tvalid_1's auc: 0.770626\n",
      "[11050]\ttraining's auc: 0.817457\tvalid_1's auc: 0.770669\n",
      "[11100]\ttraining's auc: 0.817667\tvalid_1's auc: 0.77072\n",
      "[11150]\ttraining's auc: 0.817871\tvalid_1's auc: 0.770766\n",
      "[11200]\ttraining's auc: 0.818068\tvalid_1's auc: 0.770805\n",
      "[11250]\ttraining's auc: 0.818274\tvalid_1's auc: 0.770864\n",
      "[11300]\ttraining's auc: 0.818471\tvalid_1's auc: 0.770911\n",
      "[11350]\ttraining's auc: 0.81868\tvalid_1's auc: 0.770967\n",
      "[11400]\ttraining's auc: 0.818884\tvalid_1's auc: 0.771014\n",
      "[11450]\ttraining's auc: 0.819085\tvalid_1's auc: 0.771055\n",
      "[11500]\ttraining's auc: 0.819283\tvalid_1's auc: 0.771098\n",
      "[11550]\ttraining's auc: 0.819476\tvalid_1's auc: 0.771136\n",
      "[11600]\ttraining's auc: 0.81969\tvalid_1's auc: 0.771193\n",
      "[11650]\ttraining's auc: 0.819891\tvalid_1's auc: 0.771241\n",
      "[11700]\ttraining's auc: 0.820081\tvalid_1's auc: 0.771278\n",
      "[11750]\ttraining's auc: 0.820276\tvalid_1's auc: 0.771317\n",
      "[11800]\ttraining's auc: 0.820474\tvalid_1's auc: 0.771362\n",
      "[11850]\ttraining's auc: 0.820682\tvalid_1's auc: 0.771412\n",
      "[11900]\ttraining's auc: 0.820882\tvalid_1's auc: 0.771455\n",
      "[11950]\ttraining's auc: 0.821073\tvalid_1's auc: 0.771486\n",
      "[12000]\ttraining's auc: 0.821268\tvalid_1's auc: 0.771526\n",
      "[12050]\ttraining's auc: 0.821466\tvalid_1's auc: 0.77157\n",
      "[12100]\ttraining's auc: 0.821666\tvalid_1's auc: 0.77161\n",
      "[12150]\ttraining's auc: 0.82186\tvalid_1's auc: 0.77165\n",
      "[12200]\ttraining's auc: 0.822048\tvalid_1's auc: 0.771683\n",
      "[12250]\ttraining's auc: 0.822241\tvalid_1's auc: 0.77172\n",
      "[12300]\ttraining's auc: 0.82244\tvalid_1's auc: 0.771763\n",
      "[12350]\ttraining's auc: 0.822633\tvalid_1's auc: 0.771805\n",
      "[12400]\ttraining's auc: 0.822823\tvalid_1's auc: 0.771839\n",
      "[12450]\ttraining's auc: 0.823015\tvalid_1's auc: 0.771874\n",
      "[12500]\ttraining's auc: 0.823207\tvalid_1's auc: 0.771909\n",
      "[12550]\ttraining's auc: 0.8234\tvalid_1's auc: 0.771946\n",
      "[12600]\ttraining's auc: 0.823591\tvalid_1's auc: 0.771985\n",
      "[12650]\ttraining's auc: 0.823777\tvalid_1's auc: 0.77202\n",
      "[12700]\ttraining's auc: 0.823955\tvalid_1's auc: 0.772047\n",
      "[12750]\ttraining's auc: 0.82415\tvalid_1's auc: 0.772089\n",
      "[12800]\ttraining's auc: 0.824342\tvalid_1's auc: 0.772124\n",
      "[12850]\ttraining's auc: 0.82453\tvalid_1's auc: 0.772159\n",
      "[12900]\ttraining's auc: 0.824715\tvalid_1's auc: 0.77219\n",
      "[12950]\ttraining's auc: 0.824898\tvalid_1's auc: 0.77222\n",
      "[13000]\ttraining's auc: 0.825087\tvalid_1's auc: 0.772251\n",
      "[13050]\ttraining's auc: 0.825268\tvalid_1's auc: 0.772287\n",
      "[13100]\ttraining's auc: 0.825454\tvalid_1's auc: 0.77232\n",
      "[13150]\ttraining's auc: 0.825645\tvalid_1's auc: 0.772355\n",
      "[13200]\ttraining's auc: 0.825836\tvalid_1's auc: 0.772395\n",
      "[13250]\ttraining's auc: 0.826026\tvalid_1's auc: 0.772425\n",
      "[13300]\ttraining's auc: 0.826206\tvalid_1's auc: 0.772457\n",
      "[13350]\ttraining's auc: 0.826394\tvalid_1's auc: 0.772491\n",
      "[13400]\ttraining's auc: 0.826592\tvalid_1's auc: 0.772533\n",
      "[13450]\ttraining's auc: 0.826777\tvalid_1's auc: 0.772569\n",
      "[13500]\ttraining's auc: 0.826957\tvalid_1's auc: 0.772599\n",
      "[13550]\ttraining's auc: 0.82713\tvalid_1's auc: 0.772625\n",
      "[13600]\ttraining's auc: 0.827307\tvalid_1's auc: 0.772656\n",
      "[13650]\ttraining's auc: 0.827497\tvalid_1's auc: 0.772692\n",
      "[13700]\ttraining's auc: 0.827683\tvalid_1's auc: 0.772732\n",
      "[13750]\ttraining's auc: 0.827863\tvalid_1's auc: 0.772759\n",
      "[13800]\ttraining's auc: 0.82805\tvalid_1's auc: 0.772792\n",
      "[13850]\ttraining's auc: 0.82823\tvalid_1's auc: 0.772827\n",
      "[13900]\ttraining's auc: 0.828407\tvalid_1's auc: 0.772857\n",
      "[13950]\ttraining's auc: 0.828592\tvalid_1's auc: 0.77289\n",
      "[14000]\ttraining's auc: 0.828775\tvalid_1's auc: 0.772928\n",
      "[14050]\ttraining's auc: 0.828953\tvalid_1's auc: 0.772952\n",
      "[14100]\ttraining's auc: 0.829137\tvalid_1's auc: 0.772981\n",
      "[14150]\ttraining's auc: 0.829322\tvalid_1's auc: 0.773014\n",
      "[14200]\ttraining's auc: 0.829506\tvalid_1's auc: 0.77305\n",
      "[14250]\ttraining's auc: 0.82968\tvalid_1's auc: 0.773079\n",
      "[14300]\ttraining's auc: 0.829854\tvalid_1's auc: 0.773105\n",
      "[14350]\ttraining's auc: 0.830035\tvalid_1's auc: 0.773137\n",
      "[14400]\ttraining's auc: 0.830209\tvalid_1's auc: 0.773162\n",
      "[14450]\ttraining's auc: 0.830391\tvalid_1's auc: 0.773194\n",
      "[14500]\ttraining's auc: 0.830571\tvalid_1's auc: 0.773227\n",
      "[14550]\ttraining's auc: 0.830751\tvalid_1's auc: 0.773263\n",
      "[14600]\ttraining's auc: 0.830928\tvalid_1's auc: 0.773296\n",
      "[14650]\ttraining's auc: 0.831102\tvalid_1's auc: 0.773321\n",
      "[14700]\ttraining's auc: 0.831278\tvalid_1's auc: 0.773348\n",
      "[14750]\ttraining's auc: 0.831448\tvalid_1's auc: 0.773368\n",
      "[14800]\ttraining's auc: 0.831632\tvalid_1's auc: 0.773404\n",
      "[14850]\ttraining's auc: 0.831821\tvalid_1's auc: 0.773443\n",
      "[14900]\ttraining's auc: 0.831995\tvalid_1's auc: 0.773475\n",
      "[14950]\ttraining's auc: 0.832169\tvalid_1's auc: 0.773499\n",
      "[15000]\ttraining's auc: 0.832349\tvalid_1's auc: 0.773532\n",
      "[15050]\ttraining's auc: 0.832519\tvalid_1's auc: 0.773555\n",
      "[15100]\ttraining's auc: 0.832692\tvalid_1's auc: 0.773577\n",
      "[15150]\ttraining's auc: 0.832864\tvalid_1's auc: 0.773599\n",
      "[15200]\ttraining's auc: 0.833045\tvalid_1's auc: 0.773636\n",
      "[15250]\ttraining's auc: 0.833214\tvalid_1's auc: 0.773652\n",
      "[15300]\ttraining's auc: 0.833389\tvalid_1's auc: 0.773679\n",
      "[15350]\ttraining's auc: 0.833558\tvalid_1's auc: 0.773702\n",
      "[15400]\ttraining's auc: 0.83374\tvalid_1's auc: 0.773729\n",
      "[15450]\ttraining's auc: 0.833914\tvalid_1's auc: 0.773762\n",
      "[15500]\ttraining's auc: 0.834092\tvalid_1's auc: 0.773799\n",
      "[15550]\ttraining's auc: 0.834262\tvalid_1's auc: 0.773827\n",
      "[15600]\ttraining's auc: 0.834433\tvalid_1's auc: 0.773854\n",
      "[15650]\ttraining's auc: 0.834607\tvalid_1's auc: 0.773885\n",
      "[15700]\ttraining's auc: 0.834783\tvalid_1's auc: 0.773912\n",
      "[15750]\ttraining's auc: 0.83495\tvalid_1's auc: 0.773932\n",
      "[15800]\ttraining's auc: 0.835119\tvalid_1's auc: 0.773954\n",
      "[15850]\ttraining's auc: 0.835287\tvalid_1's auc: 0.773975\n",
      "[15900]\ttraining's auc: 0.835465\tvalid_1's auc: 0.774006\n",
      "[15950]\ttraining's auc: 0.835631\tvalid_1's auc: 0.774024\n",
      "[16000]\ttraining's auc: 0.835803\tvalid_1's auc: 0.774045\n",
      "[16050]\ttraining's auc: 0.835969\tvalid_1's auc: 0.774072\n",
      "[16100]\ttraining's auc: 0.836133\tvalid_1's auc: 0.774093\n",
      "[16150]\ttraining's auc: 0.836301\tvalid_1's auc: 0.774119\n",
      "[16200]\ttraining's auc: 0.83647\tvalid_1's auc: 0.774146\n",
      "[16250]\ttraining's auc: 0.836642\tvalid_1's auc: 0.774168\n",
      "[16300]\ttraining's auc: 0.8368\tvalid_1's auc: 0.774183\n",
      "[16350]\ttraining's auc: 0.836968\tvalid_1's auc: 0.774202\n",
      "[16400]\ttraining's auc: 0.837136\tvalid_1's auc: 0.77423\n",
      "[16450]\ttraining's auc: 0.837302\tvalid_1's auc: 0.774254\n",
      "[16500]\ttraining's auc: 0.837478\tvalid_1's auc: 0.774283\n",
      "[16550]\ttraining's auc: 0.837641\tvalid_1's auc: 0.774309\n",
      "[16600]\ttraining's auc: 0.837804\tvalid_1's auc: 0.774332\n",
      "[16650]\ttraining's auc: 0.837966\tvalid_1's auc: 0.774347\n",
      "[16700]\ttraining's auc: 0.838137\tvalid_1's auc: 0.774371\n",
      "[16750]\ttraining's auc: 0.838306\tvalid_1's auc: 0.774403\n",
      "[16800]\ttraining's auc: 0.838473\tvalid_1's auc: 0.774427\n",
      "[16850]\ttraining's auc: 0.838647\tvalid_1's auc: 0.774454\n",
      "[16900]\ttraining's auc: 0.838813\tvalid_1's auc: 0.774475\n",
      "[16950]\ttraining's auc: 0.838977\tvalid_1's auc: 0.774498\n",
      "[17000]\ttraining's auc: 0.839143\tvalid_1's auc: 0.774524\n",
      "[17050]\ttraining's auc: 0.839311\tvalid_1's auc: 0.774544\n",
      "[17100]\ttraining's auc: 0.839469\tvalid_1's auc: 0.774562\n",
      "[17150]\ttraining's auc: 0.839636\tvalid_1's auc: 0.774587\n",
      "[17200]\ttraining's auc: 0.839806\tvalid_1's auc: 0.774614\n",
      "[17250]\ttraining's auc: 0.839966\tvalid_1's auc: 0.774633\n",
      "[17300]\ttraining's auc: 0.840125\tvalid_1's auc: 0.774649\n",
      "[17350]\ttraining's auc: 0.840296\tvalid_1's auc: 0.77468\n",
      "[17400]\ttraining's auc: 0.840459\tvalid_1's auc: 0.774702\n",
      "[17450]\ttraining's auc: 0.840621\tvalid_1's auc: 0.774726\n",
      "[17500]\ttraining's auc: 0.84078\tvalid_1's auc: 0.774748\n",
      "[17550]\ttraining's auc: 0.840948\tvalid_1's auc: 0.774778\n",
      "[17600]\ttraining's auc: 0.841112\tvalid_1's auc: 0.774803\n",
      "[17650]\ttraining's auc: 0.841274\tvalid_1's auc: 0.77483\n",
      "[17700]\ttraining's auc: 0.841434\tvalid_1's auc: 0.774857\n",
      "[17750]\ttraining's auc: 0.841598\tvalid_1's auc: 0.77488\n",
      "[17800]\ttraining's auc: 0.841751\tvalid_1's auc: 0.774898\n",
      "[17850]\ttraining's auc: 0.841911\tvalid_1's auc: 0.774916\n",
      "[17900]\ttraining's auc: 0.842071\tvalid_1's auc: 0.774937\n",
      "[17950]\ttraining's auc: 0.842231\tvalid_1's auc: 0.774955\n",
      "[18000]\ttraining's auc: 0.84239\tvalid_1's auc: 0.774975\n",
      "[18050]\ttraining's auc: 0.842547\tvalid_1's auc: 0.774995\n",
      "[18100]\ttraining's auc: 0.84271\tvalid_1's auc: 0.775011\n",
      "[18150]\ttraining's auc: 0.842872\tvalid_1's auc: 0.775034\n",
      "[18200]\ttraining's auc: 0.843036\tvalid_1's auc: 0.775053\n",
      "[18250]\ttraining's auc: 0.843202\tvalid_1's auc: 0.775081\n",
      "[18300]\ttraining's auc: 0.843367\tvalid_1's auc: 0.775103\n",
      "[18350]\ttraining's auc: 0.843523\tvalid_1's auc: 0.775117\n",
      "[18400]\ttraining's auc: 0.84368\tvalid_1's auc: 0.775136\n",
      "[18450]\ttraining's auc: 0.843834\tvalid_1's auc: 0.775156\n",
      "[18500]\ttraining's auc: 0.843993\tvalid_1's auc: 0.775178\n",
      "[18550]\ttraining's auc: 0.844157\tvalid_1's auc: 0.775199\n",
      "[18600]\ttraining's auc: 0.844314\tvalid_1's auc: 0.775212\n",
      "[18650]\ttraining's auc: 0.844471\tvalid_1's auc: 0.775231\n",
      "[18700]\ttraining's auc: 0.844625\tvalid_1's auc: 0.775244\n",
      "[18750]\ttraining's auc: 0.844781\tvalid_1's auc: 0.775264\n",
      "[18800]\ttraining's auc: 0.844942\tvalid_1's auc: 0.775285\n",
      "[18850]\ttraining's auc: 0.845099\tvalid_1's auc: 0.775304\n",
      "[18900]\ttraining's auc: 0.845255\tvalid_1's auc: 0.775327\n",
      "[18950]\ttraining's auc: 0.845408\tvalid_1's auc: 0.775338\n",
      "[19000]\ttraining's auc: 0.845564\tvalid_1's auc: 0.775362\n",
      "[19050]\ttraining's auc: 0.845719\tvalid_1's auc: 0.775379\n",
      "[19100]\ttraining's auc: 0.845877\tvalid_1's auc: 0.775402\n",
      "[19150]\ttraining's auc: 0.846032\tvalid_1's auc: 0.775418\n",
      "[19200]\ttraining's auc: 0.84618\tvalid_1's auc: 0.775436\n",
      "[19250]\ttraining's auc: 0.846332\tvalid_1's auc: 0.775446\n",
      "[19300]\ttraining's auc: 0.846484\tvalid_1's auc: 0.775462\n",
      "[19350]\ttraining's auc: 0.846639\tvalid_1's auc: 0.775474\n",
      "[19400]\ttraining's auc: 0.846789\tvalid_1's auc: 0.775486\n",
      "[19450]\ttraining's auc: 0.846942\tvalid_1's auc: 0.775503\n",
      "[19500]\ttraining's auc: 0.84709\tvalid_1's auc: 0.775517\n",
      "[19550]\ttraining's auc: 0.847241\tvalid_1's auc: 0.775534\n",
      "[19600]\ttraining's auc: 0.847402\tvalid_1's auc: 0.775558\n",
      "[19650]\ttraining's auc: 0.847555\tvalid_1's auc: 0.775574\n",
      "[19700]\ttraining's auc: 0.847712\tvalid_1's auc: 0.775594\n",
      "[19750]\ttraining's auc: 0.847864\tvalid_1's auc: 0.775611\n",
      "[19800]\ttraining's auc: 0.848014\tvalid_1's auc: 0.775626\n",
      "[19850]\ttraining's auc: 0.848168\tvalid_1's auc: 0.775648\n",
      "[19900]\ttraining's auc: 0.848322\tvalid_1's auc: 0.775664\n",
      "[19950]\ttraining's auc: 0.848473\tvalid_1's auc: 0.775674\n",
      "[20000]\ttraining's auc: 0.848625\tvalid_1's auc: 0.775686\n",
      "[20050]\ttraining's auc: 0.848778\tvalid_1's auc: 0.775711\n",
      "[20100]\ttraining's auc: 0.848933\tvalid_1's auc: 0.775732\n",
      "[20150]\ttraining's auc: 0.849086\tvalid_1's auc: 0.775755\n",
      "[20200]\ttraining's auc: 0.849237\tvalid_1's auc: 0.77577\n",
      "[20250]\ttraining's auc: 0.849385\tvalid_1's auc: 0.775784\n",
      "[20300]\ttraining's auc: 0.849532\tvalid_1's auc: 0.775797\n",
      "[20350]\ttraining's auc: 0.84968\tvalid_1's auc: 0.775811\n",
      "[20400]\ttraining's auc: 0.849826\tvalid_1's auc: 0.775825\n",
      "[20450]\ttraining's auc: 0.849979\tvalid_1's auc: 0.775843\n",
      "[20500]\ttraining's auc: 0.850127\tvalid_1's auc: 0.775859\n",
      "[20550]\ttraining's auc: 0.850275\tvalid_1's auc: 0.775877\n",
      "[20600]\ttraining's auc: 0.850424\tvalid_1's auc: 0.775895\n",
      "[20650]\ttraining's auc: 0.850573\tvalid_1's auc: 0.775907\n",
      "[20700]\ttraining's auc: 0.850719\tvalid_1's auc: 0.775916\n",
      "[20750]\ttraining's auc: 0.850867\tvalid_1's auc: 0.775931\n",
      "[20800]\ttraining's auc: 0.851016\tvalid_1's auc: 0.775947\n",
      "[20850]\ttraining's auc: 0.851167\tvalid_1's auc: 0.775964\n",
      "[20900]\ttraining's auc: 0.851316\tvalid_1's auc: 0.775982\n",
      "[20950]\ttraining's auc: 0.85146\tvalid_1's auc: 0.775996\n",
      "[21000]\ttraining's auc: 0.851607\tvalid_1's auc: 0.776003\n",
      "[21050]\ttraining's auc: 0.851752\tvalid_1's auc: 0.77602\n",
      "[21100]\ttraining's auc: 0.851894\tvalid_1's auc: 0.776028\n",
      "[21150]\ttraining's auc: 0.852043\tvalid_1's auc: 0.776042\n",
      "[21200]\ttraining's auc: 0.852192\tvalid_1's auc: 0.776057\n",
      "[21250]\ttraining's auc: 0.852334\tvalid_1's auc: 0.776069\n",
      "[21300]\ttraining's auc: 0.852481\tvalid_1's auc: 0.776085\n",
      "[21350]\ttraining's auc: 0.852625\tvalid_1's auc: 0.776101\n",
      "[21400]\ttraining's auc: 0.852764\tvalid_1's auc: 0.776109\n",
      "[21450]\ttraining's auc: 0.852905\tvalid_1's auc: 0.776119\n",
      "[21500]\ttraining's auc: 0.853048\tvalid_1's auc: 0.776133\n",
      "[21550]\ttraining's auc: 0.853188\tvalid_1's auc: 0.776145\n",
      "[21600]\ttraining's auc: 0.853335\tvalid_1's auc: 0.776157\n",
      "[21650]\ttraining's auc: 0.853479\tvalid_1's auc: 0.77617\n",
      "[21700]\ttraining's auc: 0.853627\tvalid_1's auc: 0.776181\n",
      "[21750]\ttraining's auc: 0.853767\tvalid_1's auc: 0.77619\n",
      "[21800]\ttraining's auc: 0.853913\tvalid_1's auc: 0.776202\n",
      "[21850]\ttraining's auc: 0.854061\tvalid_1's auc: 0.776216\n",
      "[21900]\ttraining's auc: 0.854201\tvalid_1's auc: 0.77623\n",
      "[21950]\ttraining's auc: 0.854345\tvalid_1's auc: 0.776245\n",
      "[22000]\ttraining's auc: 0.854482\tvalid_1's auc: 0.776252\n",
      "[22050]\ttraining's auc: 0.854624\tvalid_1's auc: 0.776268\n",
      "[22100]\ttraining's auc: 0.854771\tvalid_1's auc: 0.776284\n",
      "[22150]\ttraining's auc: 0.854919\tvalid_1's auc: 0.776302\n",
      "[22200]\ttraining's auc: 0.855059\tvalid_1's auc: 0.776314\n",
      "[22250]\ttraining's auc: 0.855196\tvalid_1's auc: 0.77633\n",
      "[22300]\ttraining's auc: 0.855336\tvalid_1's auc: 0.776342\n",
      "[22350]\ttraining's auc: 0.855482\tvalid_1's auc: 0.776359\n",
      "[22400]\ttraining's auc: 0.855628\tvalid_1's auc: 0.776375\n",
      "[22450]\ttraining's auc: 0.855772\tvalid_1's auc: 0.776385\n",
      "[22500]\ttraining's auc: 0.855907\tvalid_1's auc: 0.776392\n",
      "[22550]\ttraining's auc: 0.856048\tvalid_1's auc: 0.776404\n",
      "[22600]\ttraining's auc: 0.856186\tvalid_1's auc: 0.776416\n",
      "[22650]\ttraining's auc: 0.856322\tvalid_1's auc: 0.776428\n",
      "[22700]\ttraining's auc: 0.856467\tvalid_1's auc: 0.77644\n",
      "[22750]\ttraining's auc: 0.856605\tvalid_1's auc: 0.776449\n",
      "[22800]\ttraining's auc: 0.856748\tvalid_1's auc: 0.77646\n",
      "[22850]\ttraining's auc: 0.85689\tvalid_1's auc: 0.776474\n",
      "[22900]\ttraining's auc: 0.857027\tvalid_1's auc: 0.776482\n",
      "[22950]\ttraining's auc: 0.857169\tvalid_1's auc: 0.77649\n",
      "[23000]\ttraining's auc: 0.85731\tvalid_1's auc: 0.7765\n",
      "[23050]\ttraining's auc: 0.857452\tvalid_1's auc: 0.776515\n",
      "[23100]\ttraining's auc: 0.857587\tvalid_1's auc: 0.776522\n",
      "[23150]\ttraining's auc: 0.857726\tvalid_1's auc: 0.776533\n",
      "[23200]\ttraining's auc: 0.857864\tvalid_1's auc: 0.776545\n",
      "[23250]\ttraining's auc: 0.858006\tvalid_1's auc: 0.77655\n",
      "[23300]\ttraining's auc: 0.858149\tvalid_1's auc: 0.776562\n",
      "[23350]\ttraining's auc: 0.858291\tvalid_1's auc: 0.776579\n",
      "[23400]\ttraining's auc: 0.858433\tvalid_1's auc: 0.776591\n",
      "[23450]\ttraining's auc: 0.858574\tvalid_1's auc: 0.776602\n",
      "[23500]\ttraining's auc: 0.85871\tvalid_1's auc: 0.776611\n",
      "[23550]\ttraining's auc: 0.858849\tvalid_1's auc: 0.776625\n",
      "[23600]\ttraining's auc: 0.858993\tvalid_1's auc: 0.776636\n",
      "[23650]\ttraining's auc: 0.859128\tvalid_1's auc: 0.776643\n",
      "[23700]\ttraining's auc: 0.859271\tvalid_1's auc: 0.776657\n",
      "[23750]\ttraining's auc: 0.859402\tvalid_1's auc: 0.776665\n",
      "[23800]\ttraining's auc: 0.859543\tvalid_1's auc: 0.776681\n",
      "[23850]\ttraining's auc: 0.859676\tvalid_1's auc: 0.776688\n",
      "[23900]\ttraining's auc: 0.859809\tvalid_1's auc: 0.776697\n",
      "[23950]\ttraining's auc: 0.859945\tvalid_1's auc: 0.776712\n",
      "[24000]\ttraining's auc: 0.860078\tvalid_1's auc: 0.776719\n",
      "[24050]\ttraining's auc: 0.860214\tvalid_1's auc: 0.77673\n",
      "[24100]\ttraining's auc: 0.860346\tvalid_1's auc: 0.776738\n",
      "[24150]\ttraining's auc: 0.860487\tvalid_1's auc: 0.776751\n",
      "[24200]\ttraining's auc: 0.860622\tvalid_1's auc: 0.776759\n",
      "[24250]\ttraining's auc: 0.860759\tvalid_1's auc: 0.776767\n",
      "[24300]\ttraining's auc: 0.860892\tvalid_1's auc: 0.776776\n",
      "[24350]\ttraining's auc: 0.861026\tvalid_1's auc: 0.776781\n",
      "[24400]\ttraining's auc: 0.861161\tvalid_1's auc: 0.776791\n",
      "[24450]\ttraining's auc: 0.861294\tvalid_1's auc: 0.7768\n",
      "[24500]\ttraining's auc: 0.861425\tvalid_1's auc: 0.776808\n",
      "[24550]\ttraining's auc: 0.861561\tvalid_1's auc: 0.776813\n",
      "[24600]\ttraining's auc: 0.861695\tvalid_1's auc: 0.776823\n",
      "[24650]\ttraining's auc: 0.861832\tvalid_1's auc: 0.77683\n",
      "[24700]\ttraining's auc: 0.861967\tvalid_1's auc: 0.776838\n",
      "[24750]\ttraining's auc: 0.862104\tvalid_1's auc: 0.776846\n",
      "[24800]\ttraining's auc: 0.862238\tvalid_1's auc: 0.776855\n",
      "[24850]\ttraining's auc: 0.862369\tvalid_1's auc: 0.776864\n",
      "[24900]\ttraining's auc: 0.862501\tvalid_1's auc: 0.776872\n",
      "[24950]\ttraining's auc: 0.862635\tvalid_1's auc: 0.77688\n",
      "[25000]\ttraining's auc: 0.862765\tvalid_1's auc: 0.776889\n",
      "Did not meet early stopping. Best iteration is:\n",
      "[25000]\ttraining's auc: 0.862765\tvalid_1's auc: 0.776889\n"
     ]
    }
   ],
   "source": [
    "num_round = 25000\n",
    "\n",
    "parameters = {'num_leaves': 128,\n",
    "             'min_data_in_leaf': 20, \n",
    "             'objective':'binary',\n",
    "             'max_depth': 8,\n",
    "             'learning_rate': 0.001,\n",
    "             \"min_child_samples\": 20,\n",
    "             \"boosting\": \"gbdt\",\n",
    "             \"feature_fraction\": 0.9,\n",
    "             \"bagging_freq\": 1,\n",
    "             \"bagging_fraction\": 0.9 ,\n",
    "             \"bagging_seed\": 44,\n",
    "             \"metric\": 'auc',\n",
    "             \"verbosity\": -1}\n",
    "\n",
    "\n",
    "traindata = lgb.Dataset(X_train, label=y_train)\n",
    "testdata = lgb.Dataset(X_test, label=y_test)\n",
    "\n",
    "LGBModel = lgb.train(parameters, traindata, num_round, valid_sets = [traindata, testdata],\n",
    "                     verbose_eval=50, early_stopping_rounds = 600)\n"
   ]
  },
  {
   "cell_type": "markdown",
   "metadata": {},
   "source": [
    "accuracy might be better by using more round numbers \n",
    "\n",
    "_____\n",
    "\n",
    "now to predict test data , but first we have to apply same scaler model to test data"
   ]
  },
  {
   "cell_type": "code",
   "execution_count": 43,
   "metadata": {
    "scrolled": true
   },
   "outputs": [
    {
     "data": {
      "text/plain": [
       "(200000, 23)"
      ]
     },
     "execution_count": 43,
     "metadata": {},
     "output_type": "execute_result"
    }
   ],
   "source": [
    "test = scaler.transform(test_data)\n",
    "test.shape"
   ]
  },
  {
   "cell_type": "markdown",
   "metadata": {},
   "source": [
    "ok , now predicting testing data"
   ]
  },
  {
   "cell_type": "code",
   "execution_count": 44,
   "metadata": {
    "scrolled": true
   },
   "outputs": [
    {
     "data": {
      "text/plain": [
       "(200000,)"
      ]
     },
     "execution_count": 44,
     "metadata": {},
     "output_type": "execute_result"
    }
   ],
   "source": [
    "y_pred = LGBModel.predict(test)\n",
    "y_pred.shape"
   ]
  },
  {
   "cell_type": "markdown",
   "metadata": {},
   "source": [
    "how it looks like ? "
   ]
  },
  {
   "cell_type": "code",
   "execution_count": 45,
   "metadata": {
    "scrolled": true
   },
   "outputs": [
    {
     "data": {
      "text/plain": [
       "array([0.32505138, 0.68199648, 0.23366187, 0.43170927, 0.74543851,\n",
       "       0.3134455 , 0.43696868, 0.15819384, 0.53420662, 0.57305563])"
      ]
     },
     "execution_count": 45,
     "metadata": {},
     "output_type": "execute_result"
    }
   ],
   "source": [
    "y_pred[:10]"
   ]
  },
  {
   "cell_type": "markdown",
   "metadata": {},
   "source": [
    "great , now to open sample_submission , to read id columns from it"
   ]
  },
  {
   "cell_type": "code",
   "execution_count": 46,
   "metadata": {
    "scrolled": true
   },
   "outputs": [
    {
     "name": "stdout",
     "output_type": "stream",
     "text": [
      "Test data Shape is (200000, 2)\n"
     ]
    },
    {
     "data": {
      "text/html": [
       "<div>\n",
       "<style scoped>\n",
       "    .dataframe tbody tr th:only-of-type {\n",
       "        vertical-align: middle;\n",
       "    }\n",
       "\n",
       "    .dataframe tbody tr th {\n",
       "        vertical-align: top;\n",
       "    }\n",
       "\n",
       "    .dataframe thead th {\n",
       "        text-align: right;\n",
       "    }\n",
       "</style>\n",
       "<table border=\"1\" class=\"dataframe\">\n",
       "  <thead>\n",
       "    <tr style=\"text-align: right;\">\n",
       "      <th></th>\n",
       "      <th>id</th>\n",
       "      <th>target</th>\n",
       "    </tr>\n",
       "  </thead>\n",
       "  <tbody>\n",
       "    <tr>\n",
       "      <th>0</th>\n",
       "      <td>300000</td>\n",
       "      <td>0.5</td>\n",
       "    </tr>\n",
       "    <tr>\n",
       "      <th>1</th>\n",
       "      <td>300001</td>\n",
       "      <td>0.5</td>\n",
       "    </tr>\n",
       "    <tr>\n",
       "      <th>2</th>\n",
       "      <td>300002</td>\n",
       "      <td>0.5</td>\n",
       "    </tr>\n",
       "    <tr>\n",
       "      <th>3</th>\n",
       "      <td>300003</td>\n",
       "      <td>0.5</td>\n",
       "    </tr>\n",
       "    <tr>\n",
       "      <th>4</th>\n",
       "      <td>300004</td>\n",
       "      <td>0.5</td>\n",
       "    </tr>\n",
       "  </tbody>\n",
       "</table>\n",
       "</div>"
      ],
      "text/plain": [
       "       id  target\n",
       "0  300000     0.5\n",
       "1  300001     0.5\n",
       "2  300002     0.5\n",
       "3  300003     0.5\n",
       "4  300004     0.5"
      ]
     },
     "execution_count": 46,
     "metadata": {},
     "output_type": "execute_result"
    }
   ],
   "source": [
    "data = pd.read_csv('../input/cat-in-the-dat/sample_submission.csv')  \n",
    "\n",
    "print(f'Test data Shape is {data.shape}')\n",
    "data.head()"
   ]
  },
  {
   "cell_type": "markdown",
   "metadata": {},
   "source": [
    "at last we concatenate id column with the result"
   ]
  },
  {
   "cell_type": "code",
   "execution_count": 47,
   "metadata": {
    "scrolled": true
   },
   "outputs": [
    {
     "data": {
      "text/html": [
       "<div>\n",
       "<style scoped>\n",
       "    .dataframe tbody tr th:only-of-type {\n",
       "        vertical-align: middle;\n",
       "    }\n",
       "\n",
       "    .dataframe tbody tr th {\n",
       "        vertical-align: top;\n",
       "    }\n",
       "\n",
       "    .dataframe thead th {\n",
       "        text-align: right;\n",
       "    }\n",
       "</style>\n",
       "<table border=\"1\" class=\"dataframe\">\n",
       "  <thead>\n",
       "    <tr style=\"text-align: right;\">\n",
       "      <th></th>\n",
       "      <th>id</th>\n",
       "      <th>target</th>\n",
       "    </tr>\n",
       "  </thead>\n",
       "  <tbody>\n",
       "    <tr>\n",
       "      <th>0</th>\n",
       "      <td>300000</td>\n",
       "      <td>0.325051</td>\n",
       "    </tr>\n",
       "    <tr>\n",
       "      <th>1</th>\n",
       "      <td>300001</td>\n",
       "      <td>0.681996</td>\n",
       "    </tr>\n",
       "    <tr>\n",
       "      <th>2</th>\n",
       "      <td>300002</td>\n",
       "      <td>0.233662</td>\n",
       "    </tr>\n",
       "    <tr>\n",
       "      <th>3</th>\n",
       "      <td>300003</td>\n",
       "      <td>0.431709</td>\n",
       "    </tr>\n",
       "    <tr>\n",
       "      <th>4</th>\n",
       "      <td>300004</td>\n",
       "      <td>0.745439</td>\n",
       "    </tr>\n",
       "  </tbody>\n",
       "</table>\n",
       "</div>"
      ],
      "text/plain": [
       "       id    target\n",
       "0  300000  0.325051\n",
       "1  300001  0.681996\n",
       "2  300002  0.233662\n",
       "3  300003  0.431709\n",
       "4  300004  0.745439"
      ]
     },
     "execution_count": 47,
     "metadata": {},
     "output_type": "execute_result"
    }
   ],
   "source": [
    "idd = data['id']\n",
    "FinalResults = pd.DataFrame(y_pred,columns= ['target'])\n",
    "FinalResults.insert(0,'id',idd)\n",
    "FinalResults.head()"
   ]
  },
  {
   "cell_type": "markdown",
   "metadata": {},
   "source": [
    "& export the result file"
   ]
  },
  {
   "cell_type": "code",
   "execution_count": 48,
   "metadata": {},
   "outputs": [
    {
     "name": "stderr",
     "output_type": "stream",
     "text": [
      "/opt/conda/lib/python3.6/site-packages/tensorflow/python/framework/dtypes.py:516: FutureWarning: Passing (type, 1) or '1type' as a synonym of type is deprecated; in a future version of numpy, it will be understood as (type, (1,)) / '(1,)type'.\n",
      "  _np_qint8 = np.dtype([(\"qint8\", np.int8, 1)])\n",
      "/opt/conda/lib/python3.6/site-packages/tensorflow/python/framework/dtypes.py:517: FutureWarning: Passing (type, 1) or '1type' as a synonym of type is deprecated; in a future version of numpy, it will be understood as (type, (1,)) / '(1,)type'.\n",
      "  _np_quint8 = np.dtype([(\"quint8\", np.uint8, 1)])\n",
      "/opt/conda/lib/python3.6/site-packages/tensorflow/python/framework/dtypes.py:518: FutureWarning: Passing (type, 1) or '1type' as a synonym of type is deprecated; in a future version of numpy, it will be understood as (type, (1,)) / '(1,)type'.\n",
      "  _np_qint16 = np.dtype([(\"qint16\", np.int16, 1)])\n",
      "/opt/conda/lib/python3.6/site-packages/tensorflow/python/framework/dtypes.py:519: FutureWarning: Passing (type, 1) or '1type' as a synonym of type is deprecated; in a future version of numpy, it will be understood as (type, (1,)) / '(1,)type'.\n",
      "  _np_quint16 = np.dtype([(\"quint16\", np.uint16, 1)])\n",
      "/opt/conda/lib/python3.6/site-packages/tensorflow/python/framework/dtypes.py:520: FutureWarning: Passing (type, 1) or '1type' as a synonym of type is deprecated; in a future version of numpy, it will be understood as (type, (1,)) / '(1,)type'.\n",
      "  _np_qint32 = np.dtype([(\"qint32\", np.int32, 1)])\n",
      "/opt/conda/lib/python3.6/site-packages/tensorflow/python/framework/dtypes.py:525: FutureWarning: Passing (type, 1) or '1type' as a synonym of type is deprecated; in a future version of numpy, it will be understood as (type, (1,)) / '(1,)type'.\n",
      "  np_resource = np.dtype([(\"resource\", np.ubyte, 1)])\n",
      "/opt/conda/lib/python3.6/site-packages/tensorboard/compat/tensorflow_stub/dtypes.py:541: FutureWarning: Passing (type, 1) or '1type' as a synonym of type is deprecated; in a future version of numpy, it will be understood as (type, (1,)) / '(1,)type'.\n",
      "  _np_qint8 = np.dtype([(\"qint8\", np.int8, 1)])\n",
      "/opt/conda/lib/python3.6/site-packages/tensorboard/compat/tensorflow_stub/dtypes.py:542: FutureWarning: Passing (type, 1) or '1type' as a synonym of type is deprecated; in a future version of numpy, it will be understood as (type, (1,)) / '(1,)type'.\n",
      "  _np_quint8 = np.dtype([(\"quint8\", np.uint8, 1)])\n",
      "/opt/conda/lib/python3.6/site-packages/tensorboard/compat/tensorflow_stub/dtypes.py:543: FutureWarning: Passing (type, 1) or '1type' as a synonym of type is deprecated; in a future version of numpy, it will be understood as (type, (1,)) / '(1,)type'.\n",
      "  _np_qint16 = np.dtype([(\"qint16\", np.int16, 1)])\n",
      "/opt/conda/lib/python3.6/site-packages/tensorboard/compat/tensorflow_stub/dtypes.py:544: FutureWarning: Passing (type, 1) or '1type' as a synonym of type is deprecated; in a future version of numpy, it will be understood as (type, (1,)) / '(1,)type'.\n",
      "  _np_quint16 = np.dtype([(\"quint16\", np.uint16, 1)])\n",
      "/opt/conda/lib/python3.6/site-packages/tensorboard/compat/tensorflow_stub/dtypes.py:545: FutureWarning: Passing (type, 1) or '1type' as a synonym of type is deprecated; in a future version of numpy, it will be understood as (type, (1,)) / '(1,)type'.\n",
      "  _np_qint32 = np.dtype([(\"qint32\", np.int32, 1)])\n",
      "/opt/conda/lib/python3.6/site-packages/tensorboard/compat/tensorflow_stub/dtypes.py:550: FutureWarning: Passing (type, 1) or '1type' as a synonym of type is deprecated; in a future version of numpy, it will be understood as (type, (1,)) / '(1,)type'.\n",
      "  np_resource = np.dtype([(\"resource\", np.ubyte, 1)])\n"
     ]
    }
   ],
   "source": [
    "FinalResults.to_csv(\"sample_submission.csv\",index=False)"
   ]
  },
  {
   "cell_type": "code",
   "execution_count": null,
   "metadata": {},
   "outputs": [],
   "source": []
  },
  {
   "cell_type": "code",
   "execution_count": null,
   "metadata": {},
   "outputs": [],
   "source": []
  }
 ],
 "metadata": {
  "kernelspec": {
   "display_name": "Python 3",
   "language": "python",
   "name": "python3"
  },
  "language_info": {
   "codemirror_mode": {
    "name": "ipython",
    "version": 3
   },
   "file_extension": ".py",
   "mimetype": "text/x-python",
   "name": "python",
   "nbconvert_exporter": "python",
   "pygments_lexer": "ipython3",
   "version": "3.6.6"
  }
 },
 "nbformat": 4,
 "nbformat_minor": 1
}
